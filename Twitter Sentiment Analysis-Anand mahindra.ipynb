{
 "cells": [
  {
   "cell_type": "code",
   "execution_count": 1,
   "id": "81d82c69",
   "metadata": {},
   "outputs": [],
   "source": [
    "#Import the Libraries\n",
    "import tweepy\n",
    "from textblob import TextBlob\n",
    "from wordcloud import WordCloud\n",
    "import pandas as pd\n",
    "import numpy as np\n",
    "import re\n",
    "import matplotlib.pyplot as plt\n",
    "plt.style.use('fivethirtyeight')\n"
   ]
  },
  {
   "cell_type": "code",
   "execution_count": 2,
   "id": "d98af0a8",
   "metadata": {},
   "outputs": [],
   "source": [
    "log = pd.read_csv(r'C:/Users/Rohan/Desktop/Twitter API 5.csv')"
   ]
  },
  {
   "cell_type": "code",
   "execution_count": 3,
   "id": "e57fd1d2",
   "metadata": {},
   "outputs": [],
   "source": [
    "# Twitter API credentials\n",
    "AccessToken = log['Key'][0]\n",
    "AccessTokenSecret = log['Key'][1]\n",
    "ConsumerKey = log['Key'][2]\n",
    "ConsumerKeySecret = log['Key'][3]"
   ]
  },
  {
   "cell_type": "code",
   "execution_count": 4,
   "id": "a6bfc5a6",
   "metadata": {},
   "outputs": [],
   "source": [
    "#Create the authentication object\n",
    "authenticate = tweepy.OAuthHandler(ConsumerKey,ConsumerKeySecret)\n"
   ]
  },
  {
   "cell_type": "code",
   "execution_count": 5,
   "id": "783dd16a",
   "metadata": {},
   "outputs": [],
   "source": [
    "#Set the acess token and access token secret\n",
    "authenticate.set_access_token(AccessToken, AccessTokenSecret)"
   ]
  },
  {
   "cell_type": "code",
   "execution_count": 6,
   "id": "436f1904",
   "metadata": {},
   "outputs": [],
   "source": [
    "# Create the API object while passing in the auth information\n",
    "api = tweepy.API(authenticate,wait_on_rate_limit=True)"
   ]
  },
  {
   "cell_type": "code",
   "execution_count": 7,
   "id": "fdf1aff8",
   "metadata": {},
   "outputs": [],
   "source": [
    "#Wangchuk66"
   ]
  },
  {
   "cell_type": "code",
   "execution_count": 8,
   "id": "a078cdbf",
   "metadata": {},
   "outputs": [
    {
     "name": "stderr",
     "output_type": "stream",
     "text": [
      "Unexpected parameter: lang\n"
     ]
    }
   ],
   "source": [
    "# Extract 100 Tweets from the twitter user\n",
    "posts = api.user_timeline(screen_name = 'anandmahindra',count = 100 ,lang = 'en' ,tweet_mode ='extended')"
   ]
  },
  {
   "cell_type": "code",
   "execution_count": 9,
   "id": "c5dcc6c6",
   "metadata": {},
   "outputs": [
    {
     "name": "stdout",
     "output_type": "stream",
     "text": [
      "show the 10 tweets: \n",
      "\n",
      "RT @autocarpro: Maruti Suzuki maintains lead in Utility Vehicles over Hyundai Motor India; Mahindra &amp; Mahindra regains No. 3 spot. Despite…\n",
      "\n",
      "RT @autocarpro: Pininfarina-designed VF e35 &amp; e36 to debut at 2021 LA Auto Show. The all-new tech-laden electric SUVs are the centrepiece o…\n",
      "\n",
      "Received this post from a friend. Apparently an off-road rally in Kerala. Perfect analogy for how Monday morning feels.  But we’ll make it out of the early potholes! #MondayMotivation https://t.co/fynwLOhGIJ\n",
      "\n",
      "RT @shuklasach: #ThingsThisWeek\n",
      "Watch out for India’s Oct #WPI inflation, foreign trade data &amp; Covid trajectory. Also see US retail sales,…\n",
      "\n",
      "Agree https://t.co/9KNRXolfeQ\n",
      "\n",
      "Let’s scale it up @manoj_naandi It’s a national priority. @nstomar @byadavbjp @narendramodi https://t.co/s5wnwjJwFN\n",
      "\n",
      "RT @aarjunx: @anandmahindra It's not the size of the dog in the fight, it's the size of the fight in the dog.\n",
      "\n",
      "Two nations with microscopic populations compared to South Asian countries. Even compared to England. But they’re in the finals having outclassed all others. Sport is about the abundance of spirit as much as it is about the abundance of raw talent… https://t.co/zmJEEQQnLV\n",
      "\n",
      "Delhi is struggling for breath. But solutions are in sight. @UFCo_India -a venture by our Naandi Foundation has a ‘proof of concept.’  We—and many others—must scale this up rapidly… https://t.co/isAwxbnf4r\n",
      "\n",
      "Today we observe the birth anniversary of India’s 1st Prime Minister. A historic figure &amp; yet many of my generation, remember him most fondly as ‘Chacha Nehru.’  His love for children was legendary. People are best remembered for their human qualities. Happy #ChildrensDay2021 https://t.co/FFapolal1O\n",
      "\n"
     ]
    }
   ],
   "source": [
    "# Print the last 10 tweets from the account\n",
    "print ('show the 10 tweets: \\n')\n",
    "for tweet in posts[0:10]:\n",
    "    print (tweet.full_text + '\\n')"
   ]
  },
  {
   "cell_type": "code",
   "execution_count": 10,
   "id": "3632a095",
   "metadata": {},
   "outputs": [
    {
     "name": "stdout",
     "output_type": "stream",
     "text": [
      "show the 10 tweets: \n",
      "\n",
      "1)RT @autocarpro: Maruti Suzuki maintains lead in Utility Vehicles over Hyundai Motor India; Mahindra &amp; Mahindra regains No. 3 spot. Despite…\n",
      "\n",
      "2)RT @autocarpro: Pininfarina-designed VF e35 &amp; e36 to debut at 2021 LA Auto Show. The all-new tech-laden electric SUVs are the centrepiece o…\n",
      "\n",
      "3)Received this post from a friend. Apparently an off-road rally in Kerala. Perfect analogy for how Monday morning feels.  But we’ll make it out of the early potholes! #MondayMotivation https://t.co/fynwLOhGIJ\n",
      "\n",
      "4)RT @shuklasach: #ThingsThisWeek\n",
      "Watch out for India’s Oct #WPI inflation, foreign trade data &amp; Covid trajectory. Also see US retail sales,…\n",
      "\n",
      "5)Agree https://t.co/9KNRXolfeQ\n",
      "\n",
      "6)Let’s scale it up @manoj_naandi It’s a national priority. @nstomar @byadavbjp @narendramodi https://t.co/s5wnwjJwFN\n",
      "\n",
      "7)RT @aarjunx: @anandmahindra It's not the size of the dog in the fight, it's the size of the fight in the dog.\n",
      "\n",
      "8)Two nations with microscopic populations compared to South Asian countries. Even compared to England. But they’re in the finals having outclassed all others. Sport is about the abundance of spirit as much as it is about the abundance of raw talent… https://t.co/zmJEEQQnLV\n",
      "\n",
      "9)Delhi is struggling for breath. But solutions are in sight. @UFCo_India -a venture by our Naandi Foundation has a ‘proof of concept.’  We—and many others—must scale this up rapidly… https://t.co/isAwxbnf4r\n",
      "\n",
      "10)Today we observe the birth anniversary of India’s 1st Prime Minister. A historic figure &amp; yet many of my generation, remember him most fondly as ‘Chacha Nehru.’  His love for children was legendary. People are best remembered for their human qualities. Happy #ChildrensDay2021 https://t.co/FFapolal1O\n",
      "\n"
     ]
    }
   ],
   "source": [
    "# Print the last 10 tweets from the account\n",
    "print ('show the 10 tweets: \\n')\n",
    "i=1\n",
    "for tweet in posts[0:10]:\n",
    "    print (str(i)+')'+ tweet.full_text + '\\n')\n",
    "    i = i + 1"
   ]
  },
  {
   "cell_type": "code",
   "execution_count": 11,
   "id": "74bfc37c",
   "metadata": {},
   "outputs": [],
   "source": [
    "# Create a dataframe with a column called twets\n",
    "df = pd.DataFrame([tweet.full_text for tweet in posts], columns=['Tweets'])"
   ]
  },
  {
   "cell_type": "code",
   "execution_count": 12,
   "id": "82c2f577",
   "metadata": {},
   "outputs": [
    {
     "data": {
      "text/html": [
       "<div>\n",
       "<style scoped>\n",
       "    .dataframe tbody tr th:only-of-type {\n",
       "        vertical-align: middle;\n",
       "    }\n",
       "\n",
       "    .dataframe tbody tr th {\n",
       "        vertical-align: top;\n",
       "    }\n",
       "\n",
       "    .dataframe thead th {\n",
       "        text-align: right;\n",
       "    }\n",
       "</style>\n",
       "<table border=\"1\" class=\"dataframe\">\n",
       "  <thead>\n",
       "    <tr style=\"text-align: right;\">\n",
       "      <th></th>\n",
       "      <th>Tweets</th>\n",
       "    </tr>\n",
       "  </thead>\n",
       "  <tbody>\n",
       "    <tr>\n",
       "      <th>0</th>\n",
       "      <td>RT @autocarpro: Maruti Suzuki maintains lead i...</td>\n",
       "    </tr>\n",
       "    <tr>\n",
       "      <th>1</th>\n",
       "      <td>RT @autocarpro: Pininfarina-designed VF e35 &amp;a...</td>\n",
       "    </tr>\n",
       "    <tr>\n",
       "      <th>2</th>\n",
       "      <td>Received this post from a friend. Apparently a...</td>\n",
       "    </tr>\n",
       "    <tr>\n",
       "      <th>3</th>\n",
       "      <td>RT @shuklasach: #ThingsThisWeek\\nWatch out for...</td>\n",
       "    </tr>\n",
       "    <tr>\n",
       "      <th>4</th>\n",
       "      <td>Agree https://t.co/9KNRXolfeQ</td>\n",
       "    </tr>\n",
       "    <tr>\n",
       "      <th>...</th>\n",
       "      <td>...</td>\n",
       "    </tr>\n",
       "    <tr>\n",
       "      <th>95</th>\n",
       "      <td>RT @shuklasach: #ThingsThisWeek\\nHeavy data we...</td>\n",
       "    </tr>\n",
       "    <tr>\n",
       "      <th>96</th>\n",
       "      <td>Delighted that the progress meets your approva...</td>\n",
       "    </tr>\n",
       "    <tr>\n",
       "      <th>97</th>\n",
       "      <td>Bilkul. Bahut pain hua. Lekin kam se kam pain ...</td>\n",
       "    </tr>\n",
       "    <tr>\n",
       "      <th>98</th>\n",
       "      <td>To say that this was a ‘convincing victory’ fo...</td>\n",
       "    </tr>\n",
       "    <tr>\n",
       "      <th>99</th>\n",
       "      <td>Ok. Good advice. Don’t want to be blamed for a...</td>\n",
       "    </tr>\n",
       "  </tbody>\n",
       "</table>\n",
       "<p>100 rows × 1 columns</p>\n",
       "</div>"
      ],
      "text/plain": [
       "                                               Tweets\n",
       "0   RT @autocarpro: Maruti Suzuki maintains lead i...\n",
       "1   RT @autocarpro: Pininfarina-designed VF e35 &a...\n",
       "2   Received this post from a friend. Apparently a...\n",
       "3   RT @shuklasach: #ThingsThisWeek\\nWatch out for...\n",
       "4                       Agree https://t.co/9KNRXolfeQ\n",
       "..                                                ...\n",
       "95  RT @shuklasach: #ThingsThisWeek\\nHeavy data we...\n",
       "96  Delighted that the progress meets your approva...\n",
       "97  Bilkul. Bahut pain hua. Lekin kam se kam pain ...\n",
       "98  To say that this was a ‘convincing victory’ fo...\n",
       "99  Ok. Good advice. Don’t want to be blamed for a...\n",
       "\n",
       "[100 rows x 1 columns]"
      ]
     },
     "execution_count": 12,
     "metadata": {},
     "output_type": "execute_result"
    }
   ],
   "source": [
    "df"
   ]
  },
  {
   "cell_type": "code",
   "execution_count": 13,
   "id": "84622eb7",
   "metadata": {},
   "outputs": [
    {
     "data": {
      "text/plain": [
       "'RT @autocarpro: Maruti Suzuki maintains lead in Utility Vehicles over Hyundai Motor India; Mahindra &amp; Mahindra regains No. 3 spot. Despite…'"
      ]
     },
     "execution_count": 13,
     "metadata": {},
     "output_type": "execute_result"
    }
   ],
   "source": [
    "df.loc[0].values[0]"
   ]
  },
  {
   "cell_type": "code",
   "execution_count": 14,
   "id": "1b642ea3",
   "metadata": {},
   "outputs": [
    {
     "data": {
      "text/plain": [
       "'RT @autocarpro: Pininfarina-designed VF e35 &amp; e36 to debut at 2021 LA Auto Show. The all-new tech-laden electric SUVs are the centrepiece o…'"
      ]
     },
     "execution_count": 14,
     "metadata": {},
     "output_type": "execute_result"
    }
   ],
   "source": [
    "df.loc[1].values[0]"
   ]
  },
  {
   "cell_type": "code",
   "execution_count": 15,
   "id": "48c28543",
   "metadata": {},
   "outputs": [],
   "source": [
    "# Clean the text\n",
    "\n",
    "# Create a function to clean the tweets\n",
    "def cleanTxt(text):\n",
    "    text = re.sub(r'@[A-Za-z0-9]+','',text) # Removed @mentions\n",
    "    text = re.sub(r'#','',text) #Removing the \"#\" symbol\n",
    "    text = re.sub(r'RT[\\s]+','',text) #Removing RT\n",
    "    text = re.sub(r'https?:\\/\\/\\S+','',text) #Removing the hyper \n",
    "    #text = re.sub(r'https?:\\/\\/\\S*','',text, flags=re.MULTILINE)\n",
    "    \n",
    "    \n",
    "    return text"
   ]
  },
  {
   "cell_type": "code",
   "execution_count": 16,
   "id": "6327e13e",
   "metadata": {},
   "outputs": [],
   "source": [
    "# Cleaning the text\n",
    "df['Tweets'] = df['Tweets'].apply(cleanTxt)"
   ]
  },
  {
   "cell_type": "code",
   "execution_count": 17,
   "id": "10013ac1",
   "metadata": {},
   "outputs": [
    {
     "data": {
      "text/html": [
       "<div>\n",
       "<style scoped>\n",
       "    .dataframe tbody tr th:only-of-type {\n",
       "        vertical-align: middle;\n",
       "    }\n",
       "\n",
       "    .dataframe tbody tr th {\n",
       "        vertical-align: top;\n",
       "    }\n",
       "\n",
       "    .dataframe thead th {\n",
       "        text-align: right;\n",
       "    }\n",
       "</style>\n",
       "<table border=\"1\" class=\"dataframe\">\n",
       "  <thead>\n",
       "    <tr style=\"text-align: right;\">\n",
       "      <th></th>\n",
       "      <th>Tweets</th>\n",
       "    </tr>\n",
       "  </thead>\n",
       "  <tbody>\n",
       "    <tr>\n",
       "      <th>0</th>\n",
       "      <td>: Maruti Suzuki maintains lead in Utility Vehi...</td>\n",
       "    </tr>\n",
       "    <tr>\n",
       "      <th>1</th>\n",
       "      <td>: Pininfarina-designed VF e35 &amp;amp; e36 to deb...</td>\n",
       "    </tr>\n",
       "    <tr>\n",
       "      <th>2</th>\n",
       "      <td>Received this post from a friend. Apparently a...</td>\n",
       "    </tr>\n",
       "    <tr>\n",
       "      <th>3</th>\n",
       "      <td>: ThingsThisWeek\\nWatch out for India’s Oct WP...</td>\n",
       "    </tr>\n",
       "    <tr>\n",
       "      <th>4</th>\n",
       "      <td>Agree</td>\n",
       "    </tr>\n",
       "    <tr>\n",
       "      <th>...</th>\n",
       "      <td>...</td>\n",
       "    </tr>\n",
       "    <tr>\n",
       "      <th>95</th>\n",
       "      <td>: ThingsThisWeek\\nHeavy data week ahead: Watch...</td>\n",
       "    </tr>\n",
       "    <tr>\n",
       "      <th>96</th>\n",
       "      <td>Delighted that the progress meets your approva...</td>\n",
       "    </tr>\n",
       "    <tr>\n",
       "      <th>97</th>\n",
       "      <td>Bilkul. Bahut pain hua. Lekin kam se kam pain ...</td>\n",
       "    </tr>\n",
       "    <tr>\n",
       "      <th>98</th>\n",
       "      <td>To say that this was a ‘convincing victory’ fo...</td>\n",
       "    </tr>\n",
       "    <tr>\n",
       "      <th>99</th>\n",
       "      <td>Ok. Good advice. Don’t want to be blamed for a...</td>\n",
       "    </tr>\n",
       "  </tbody>\n",
       "</table>\n",
       "<p>100 rows × 1 columns</p>\n",
       "</div>"
      ],
      "text/plain": [
       "                                               Tweets\n",
       "0   : Maruti Suzuki maintains lead in Utility Vehi...\n",
       "1   : Pininfarina-designed VF e35 &amp; e36 to deb...\n",
       "2   Received this post from a friend. Apparently a...\n",
       "3   : ThingsThisWeek\\nWatch out for India’s Oct WP...\n",
       "4                                              Agree \n",
       "..                                                ...\n",
       "95  : ThingsThisWeek\\nHeavy data week ahead: Watch...\n",
       "96  Delighted that the progress meets your approva...\n",
       "97  Bilkul. Bahut pain hua. Lekin kam se kam pain ...\n",
       "98  To say that this was a ‘convincing victory’ fo...\n",
       "99  Ok. Good advice. Don’t want to be blamed for a...\n",
       "\n",
       "[100 rows x 1 columns]"
      ]
     },
     "execution_count": 17,
     "metadata": {},
     "output_type": "execute_result"
    }
   ],
   "source": [
    "#Show the cleaned text\n",
    "df"
   ]
  },
  {
   "cell_type": "code",
   "execution_count": 18,
   "id": "7947eaa4",
   "metadata": {},
   "outputs": [
    {
     "data": {
      "text/plain": [
       "': Maruti Suzuki maintains lead in Utility Vehicles over Hyundai Motor India; Mahindra &amp; Mahindra regains No. 3 spot. Despite…'"
      ]
     },
     "execution_count": 18,
     "metadata": {},
     "output_type": "execute_result"
    }
   ],
   "source": [
    "df.loc[0].values[0]"
   ]
  },
  {
   "cell_type": "code",
   "execution_count": 19,
   "id": "dc198707",
   "metadata": {},
   "outputs": [],
   "source": [
    "# Create a function to get the subjectivity\n",
    "\n",
    "def getSubjectivity(text):\n",
    "    return TextBlob(text).sentiment.subjectivity\n",
    "\n",
    "# Create a function to get the polarity\n",
    "\n",
    "def getPolarity(text):\n",
    "    return TextBlob(text).sentiment.polarity\n",
    "\n",
    "# Create two new columns\n",
    "\n",
    "df['Subjectivity'] = df['Tweets'].apply(getSubjectivity)\n",
    "df['polarity'] = df['Tweets'].apply(getPolarity)"
   ]
  },
  {
   "cell_type": "code",
   "execution_count": 20,
   "id": "1a427f73",
   "metadata": {},
   "outputs": [
    {
     "data": {
      "text/html": [
       "<div>\n",
       "<style scoped>\n",
       "    .dataframe tbody tr th:only-of-type {\n",
       "        vertical-align: middle;\n",
       "    }\n",
       "\n",
       "    .dataframe tbody tr th {\n",
       "        vertical-align: top;\n",
       "    }\n",
       "\n",
       "    .dataframe thead th {\n",
       "        text-align: right;\n",
       "    }\n",
       "</style>\n",
       "<table border=\"1\" class=\"dataframe\">\n",
       "  <thead>\n",
       "    <tr style=\"text-align: right;\">\n",
       "      <th></th>\n",
       "      <th>Tweets</th>\n",
       "      <th>Subjectivity</th>\n",
       "      <th>polarity</th>\n",
       "    </tr>\n",
       "  </thead>\n",
       "  <tbody>\n",
       "    <tr>\n",
       "      <th>0</th>\n",
       "      <td>: Maruti Suzuki maintains lead in Utility Vehi...</td>\n",
       "      <td>0.000000</td>\n",
       "      <td>0.000000</td>\n",
       "    </tr>\n",
       "    <tr>\n",
       "      <th>1</th>\n",
       "      <td>: Pininfarina-designed VF e35 &amp;amp; e36 to deb...</td>\n",
       "      <td>0.000000</td>\n",
       "      <td>0.000000</td>\n",
       "    </tr>\n",
       "    <tr>\n",
       "      <th>2</th>\n",
       "      <td>Received this post from a friend. Apparently a...</td>\n",
       "      <td>0.550000</td>\n",
       "      <td>0.391667</td>\n",
       "    </tr>\n",
       "    <tr>\n",
       "      <th>3</th>\n",
       "      <td>: ThingsThisWeek\\nWatch out for India’s Oct WP...</td>\n",
       "      <td>0.125000</td>\n",
       "      <td>-0.125000</td>\n",
       "    </tr>\n",
       "    <tr>\n",
       "      <th>4</th>\n",
       "      <td>Agree</td>\n",
       "      <td>0.000000</td>\n",
       "      <td>0.000000</td>\n",
       "    </tr>\n",
       "    <tr>\n",
       "      <th>...</th>\n",
       "      <td>...</td>\n",
       "      <td>...</td>\n",
       "      <td>...</td>\n",
       "    </tr>\n",
       "    <tr>\n",
       "      <th>95</th>\n",
       "      <td>: ThingsThisWeek\\nHeavy data week ahead: Watch...</td>\n",
       "      <td>0.500000</td>\n",
       "      <td>-0.200000</td>\n",
       "    </tr>\n",
       "    <tr>\n",
       "      <th>96</th>\n",
       "      <td>Delighted that the progress meets your approva...</td>\n",
       "      <td>0.617857</td>\n",
       "      <td>0.492857</td>\n",
       "    </tr>\n",
       "    <tr>\n",
       "      <th>97</th>\n",
       "      <td>Bilkul. Bahut pain hua. Lekin kam se kam pain ...</td>\n",
       "      <td>0.000000</td>\n",
       "      <td>0.000000</td>\n",
       "    </tr>\n",
       "    <tr>\n",
       "      <th>98</th>\n",
       "      <td>To say that this was a ‘convincing victory’ fo...</td>\n",
       "      <td>0.550000</td>\n",
       "      <td>0.250000</td>\n",
       "    </tr>\n",
       "    <tr>\n",
       "      <th>99</th>\n",
       "      <td>Ok. Good advice. Don’t want to be blamed for a...</td>\n",
       "      <td>0.600000</td>\n",
       "      <td>0.700000</td>\n",
       "    </tr>\n",
       "  </tbody>\n",
       "</table>\n",
       "<p>100 rows × 3 columns</p>\n",
       "</div>"
      ],
      "text/plain": [
       "                                               Tweets  Subjectivity  polarity\n",
       "0   : Maruti Suzuki maintains lead in Utility Vehi...      0.000000  0.000000\n",
       "1   : Pininfarina-designed VF e35 &amp; e36 to deb...      0.000000  0.000000\n",
       "2   Received this post from a friend. Apparently a...      0.550000  0.391667\n",
       "3   : ThingsThisWeek\\nWatch out for India’s Oct WP...      0.125000 -0.125000\n",
       "4                                              Agree       0.000000  0.000000\n",
       "..                                                ...           ...       ...\n",
       "95  : ThingsThisWeek\\nHeavy data week ahead: Watch...      0.500000 -0.200000\n",
       "96  Delighted that the progress meets your approva...      0.617857  0.492857\n",
       "97  Bilkul. Bahut pain hua. Lekin kam se kam pain ...      0.000000  0.000000\n",
       "98  To say that this was a ‘convincing victory’ fo...      0.550000  0.250000\n",
       "99  Ok. Good advice. Don’t want to be blamed for a...      0.600000  0.700000\n",
       "\n",
       "[100 rows x 3 columns]"
      ]
     },
     "execution_count": 20,
     "metadata": {},
     "output_type": "execute_result"
    }
   ],
   "source": [
    "# Show the new Dataframe with the new columns\n",
    "df"
   ]
  },
  {
   "cell_type": "code",
   "execution_count": 21,
   "id": "f35aeadf",
   "metadata": {},
   "outputs": [],
   "source": [
    "# Visual word cloud\n",
    "allWords = ' '.join([tweets for tweets in df['Tweets']])\n",
    "wordCloud = WordCloud(width = 500,height=300,random_state=21,max_font_size=119).generate(allWords)"
   ]
  },
  {
   "cell_type": "code",
   "execution_count": 22,
   "id": "63b8c0b6",
   "metadata": {},
   "outputs": [
    {
     "data": {
      "image/png": "[encoded data removed]",
      "text/plain": [
       "<Figure size 432x288 with 1 Axes>"
      ]
     },
     "metadata": {},
     "output_type": "display_data"
    }
   ],
   "source": [
    "plt.imshow(wordCloud,interpolation='bilinear')\n",
    "plt.axis('off')\n",
    "plt.show()"
   ]
  },
  {
   "cell_type": "code",
   "execution_count": 23,
   "id": "8a9b68de",
   "metadata": {},
   "outputs": [],
   "source": [
    "# Create a function to compute the negative , neutral and positive analysis\n",
    "\n",
    "def getAnalysis(score):\n",
    "    if score < 0:\n",
    "        return 'Negative'\n",
    "    elif score == 0:\n",
    "        return 'Neutral'\n",
    "    else:\n",
    "        return 'Positive'\n",
    "df['Analysis'] = df['polarity'].apply(getAnalysis)"
   ]
  },
  {
   "cell_type": "code",
   "execution_count": 24,
   "id": "d9afaaaa",
   "metadata": {},
   "outputs": [
    {
     "data": {
      "text/html": [
       "<div>\n",
       "<style scoped>\n",
       "    .dataframe tbody tr th:only-of-type {\n",
       "        vertical-align: middle;\n",
       "    }\n",
       "\n",
       "    .dataframe tbody tr th {\n",
       "        vertical-align: top;\n",
       "    }\n",
       "\n",
       "    .dataframe thead th {\n",
       "        text-align: right;\n",
       "    }\n",
       "</style>\n",
       "<table border=\"1\" class=\"dataframe\">\n",
       "  <thead>\n",
       "    <tr style=\"text-align: right;\">\n",
       "      <th></th>\n",
       "      <th>Tweets</th>\n",
       "      <th>Subjectivity</th>\n",
       "      <th>polarity</th>\n",
       "      <th>Analysis</th>\n",
       "    </tr>\n",
       "  </thead>\n",
       "  <tbody>\n",
       "    <tr>\n",
       "      <th>0</th>\n",
       "      <td>: Maruti Suzuki maintains lead in Utility Vehi...</td>\n",
       "      <td>0.000000</td>\n",
       "      <td>0.000000</td>\n",
       "      <td>Neutral</td>\n",
       "    </tr>\n",
       "    <tr>\n",
       "      <th>1</th>\n",
       "      <td>: Pininfarina-designed VF e35 &amp;amp; e36 to deb...</td>\n",
       "      <td>0.000000</td>\n",
       "      <td>0.000000</td>\n",
       "      <td>Neutral</td>\n",
       "    </tr>\n",
       "    <tr>\n",
       "      <th>2</th>\n",
       "      <td>Received this post from a friend. Apparently a...</td>\n",
       "      <td>0.550000</td>\n",
       "      <td>0.391667</td>\n",
       "      <td>Positive</td>\n",
       "    </tr>\n",
       "    <tr>\n",
       "      <th>3</th>\n",
       "      <td>: ThingsThisWeek\\nWatch out for India’s Oct WP...</td>\n",
       "      <td>0.125000</td>\n",
       "      <td>-0.125000</td>\n",
       "      <td>Negative</td>\n",
       "    </tr>\n",
       "    <tr>\n",
       "      <th>4</th>\n",
       "      <td>Agree</td>\n",
       "      <td>0.000000</td>\n",
       "      <td>0.000000</td>\n",
       "      <td>Neutral</td>\n",
       "    </tr>\n",
       "    <tr>\n",
       "      <th>...</th>\n",
       "      <td>...</td>\n",
       "      <td>...</td>\n",
       "      <td>...</td>\n",
       "      <td>...</td>\n",
       "    </tr>\n",
       "    <tr>\n",
       "      <th>95</th>\n",
       "      <td>: ThingsThisWeek\\nHeavy data week ahead: Watch...</td>\n",
       "      <td>0.500000</td>\n",
       "      <td>-0.200000</td>\n",
       "      <td>Negative</td>\n",
       "    </tr>\n",
       "    <tr>\n",
       "      <th>96</th>\n",
       "      <td>Delighted that the progress meets your approva...</td>\n",
       "      <td>0.617857</td>\n",
       "      <td>0.492857</td>\n",
       "      <td>Positive</td>\n",
       "    </tr>\n",
       "    <tr>\n",
       "      <th>97</th>\n",
       "      <td>Bilkul. Bahut pain hua. Lekin kam se kam pain ...</td>\n",
       "      <td>0.000000</td>\n",
       "      <td>0.000000</td>\n",
       "      <td>Neutral</td>\n",
       "    </tr>\n",
       "    <tr>\n",
       "      <th>98</th>\n",
       "      <td>To say that this was a ‘convincing victory’ fo...</td>\n",
       "      <td>0.550000</td>\n",
       "      <td>0.250000</td>\n",
       "      <td>Positive</td>\n",
       "    </tr>\n",
       "    <tr>\n",
       "      <th>99</th>\n",
       "      <td>Ok. Good advice. Don’t want to be blamed for a...</td>\n",
       "      <td>0.600000</td>\n",
       "      <td>0.700000</td>\n",
       "      <td>Positive</td>\n",
       "    </tr>\n",
       "  </tbody>\n",
       "</table>\n",
       "<p>100 rows × 4 columns</p>\n",
       "</div>"
      ],
      "text/plain": [
       "                                               Tweets  Subjectivity  polarity  \\\n",
       "0   : Maruti Suzuki maintains lead in Utility Vehi...      0.000000  0.000000   \n",
       "1   : Pininfarina-designed VF e35 &amp; e36 to deb...      0.000000  0.000000   \n",
       "2   Received this post from a friend. Apparently a...      0.550000  0.391667   \n",
       "3   : ThingsThisWeek\\nWatch out for India’s Oct WP...      0.125000 -0.125000   \n",
       "4                                              Agree       0.000000  0.000000   \n",
       "..                                                ...           ...       ...   \n",
       "95  : ThingsThisWeek\\nHeavy data week ahead: Watch...      0.500000 -0.200000   \n",
       "96  Delighted that the progress meets your approva...      0.617857  0.492857   \n",
       "97  Bilkul. Bahut pain hua. Lekin kam se kam pain ...      0.000000  0.000000   \n",
       "98  To say that this was a ‘convincing victory’ fo...      0.550000  0.250000   \n",
       "99  Ok. Good advice. Don’t want to be blamed for a...      0.600000  0.700000   \n",
       "\n",
       "    Analysis  \n",
       "0    Neutral  \n",
       "1    Neutral  \n",
       "2   Positive  \n",
       "3   Negative  \n",
       "4    Neutral  \n",
       "..       ...  \n",
       "95  Negative  \n",
       "96  Positive  \n",
       "97   Neutral  \n",
       "98  Positive  \n",
       "99  Positive  \n",
       "\n",
       "[100 rows x 4 columns]"
      ]
     },
     "execution_count": 24,
     "metadata": {},
     "output_type": "execute_result"
    }
   ],
   "source": [
    "# Show the dataframe\n",
    "\n",
    "df"
   ]
  },
  {
   "cell_type": "code",
   "execution_count": 25,
   "id": "b6637eb8",
   "metadata": {},
   "outputs": [
    {
     "name": "stdout",
     "output_type": "stream",
     "text": [
      "1)Received this post from a friend. Apparently an off-road rally in Kerala. Perfect analogy for how Monday morning feels.  But we’ll make it out of the early potholes! MondayMotivation \n",
      "\n",
      "2)Delhi is struggling for breath. But solutions are in sight. _India -a venture by our Naandi Foundation has a ‘proof of concept.’  We—and many others—must scale this up rapidly… \n",
      "\n",
      "3)Today we observe the birth anniversary of India’s 1st Prime Minister. A historic figure &amp; yet many of my generation, remember him most fondly as ‘Chacha Nehru.’  His love for children was legendary. People are best remembered for their human qualities. Happy ChildrensDay2021 \n",
      "\n",
      "4) Why do you think I put Bombay and Poona in inverted commas? Because in ‘72 that’s what they were still called. If I had used Mumbai and Pune someone would have pointed out that my narrative was inauthentic.  You can’t win on twitter! 😬\n",
      "\n",
      "5)“Main akela hi chala tha janib-e-manzil magar log saath aate gaye aur karvan banta gaya…” \n",
      "\n",
      "6)Remembering the best weekends of my youth. In ‘72 -I was 17-a friend &amp; I used to often hitchhike from ‘Bombay’ to ‘Poona’ taking rides on trucks. That’s probably when I developed my love for the open road..The movie ‘Parichay’ had come out &amp; we would sing “Musafir hoon Yaaron’😊 \n",
      "\n",
      "7)Hilarious. And perfectly sums up the way WFH &amp; these **** Virtual meetings have altered our sense of reality! \n",
      "\n",
      "8)I would love to see you recreate the auto rickshaw ride that James Bond (Moore) &amp; Vijay Amritraj took around Udaipur in ‘Octopussy’ The Electric Treo would, however, make it a silent movie… 😊 \n",
      "\n",
      "9)Has the Penguin just made a forecast about who is going to win the WorldCupT20 ? \n",
      "\n",
      "10)Thank you  for validating &amp; appreciating all the toil of our outstanding engineers… \n",
      "\n",
      "11): It’s here..again. You just can’t keep a good machine down.. \n",
      "\n",
      "12)“Schadenfreude (/ˈʃɑːdənfrɔɪdə/; German: is the experience of pleasure, joy, that comes from learning of or witnessing the troubles, failures, or humiliation of another.” \n",
      "An emotion that both Pakistanis (first) &amp; Indians (now) have experienced in this WorldCupT20 \n",
      "\n",
      "13)It’s here..again. You just can’t keep a good machine down.. \n",
      "\n",
      "14): What a privilege. To be able to give new life to an Indian legend…\n",
      "\n",
      "15)Indeed a surprise on the upside. Sustained reforms should help boost this positive momentum… India will also attract much greater capital inflows with news of a revival in the economy… \n",
      "\n",
      "16): Only one more sleep!\n",
      "\n",
      "🚨 Check out our big reveal:\n",
      "🗓 Nov. 11th\n",
      "⏰ 12:00 PM (EST)\n",
      "🔗 \n",
      "\n",
      "ROXOR ROXOROf…\n",
      "\n",
      "17)Ralph Nader started a revolution when he wrote ‘Unsafe at any speed’ back in 1965. It’s especially gratifying to be able to provide safety even at these high speeds… \n",
      "\n",
      "18): Another feather in the cap for the MahindraXUV700 – achieves 5 stars for adult occupant &amp; 4 stars for child occupant safety in…\n",
      "\n",
      "19): When it comes to safety, the real winners are people who drive safer vehicles. The rush is all about gratitude today. T…\n",
      "\n",
      "20)What a privilege. To be able to give new life to an Indian legend… \n",
      "\n",
      "21)This Govt has made a long-overdue, transformational shift in the texture of the Padma Awards recipients. Now, the focus is largely on individuals making seminal contributions to the improvement of society at grassroots levels. I truly felt undeserving to be amongst their ranks. \n",
      "\n",
      "22): Odisha to sign MoUs today to provide new dimensions to skilling and employment. MoU with TATA Strive to improve soft…\n",
      "\n",
      "23)🙏🏽 for all your congratulations on my Padma Bhushan award. Repeating my tweet from last year: “There’s an old saying: If you see a turtle on top of a fence, you know for sure it didn’t get there on its own! I stand on the shoulders of all Mahindraites.” \n",
      "\n",
      "24)Welcome to the world of electric racing  ! It’s terrific to have like-minded, purpose driven brands join the movement. Yes,  is a movement; a movement that keeps alive the thrill of racing &amp; speed, but through innovation and sustainability. \n",
      "\n",
      "25)That’s a great observation… \n",
      "\n",
      "26)It looks fantastic.if we can offer more of these kinds of circuits &amp; upscale experiences on our trains, tourism will experience explosive growth!  \n",
      "\n",
      "27)Do you need any more evidence of the large-scale conversion to digital payments in India?! \n",
      "\n",
      "28)_2009:  Looks like major shift in public mindset post Corona. Enjoy at the fullest without worrying for futur. May con…\n",
      "\n",
      "29)Brilliant. I’m an admirer of  but I think Vinisha has the potential to be listened to by a greater variety of audiences. Her voice—as she says—is not one of anger. She has a presence &amp; articulation that seems mature, balanced &amp; wise. \n",
      "\n",
      "30)This is what keeps our motivation levels sky high: Real people; Hardworking people; People who Rise… _USA \n",
      "\n",
      "31)Even as many of us worry about our cellphones making us prisoners, it’s good to remind ourselves that they can transform the lives of rural India… \n",
      "\n",
      "32)This is a wonderful tradition you have established.  Our thoughts &amp; prayers traveled with you to all those who make our Diwalis safe &amp; leave their families behind so that we can be with ours… \n",
      "\n",
      "33)This lot58 is packed with the potential of indian brands to capture global markets. Perfect gift for festive occasions, especially to coffee aficionados and collectors. Let me applaud  team _india and  \n",
      "\n",
      "34)On the darkest day of the lunar month, we celebrate the victory of light over darkness; The victory of good over evil. This is our lifelong battle; not just on Diwali.  I wish all of you a very peaceful day with your families &amp; may light triumph &amp; shine in our lives…🙏🏽 \n",
      "\n",
      "35)Hard to believe I felt the need to send  a morale-boosting message just 3 years ago, when he was exhausted &amp; suspected worse was to come. Now worth over $300bn;wealthier &amp; more successful than any businessperson ever. The lesson? Never give up. Believe in your own story. \n",
      "\n",
      "36): Our new Mahindra Electric driver partners, on the auspicious occasion of Dhanteras, began their journey towards prospe…\n",
      "\n",
      "37)2070 sounds far away. But this target is a big deal &amp; won’t be easy. Just 10 odd years ago, India was fighting against limits on emissions. The fact that we showed up at Glasgow (unlike some other large emitters!) &amp; listed 5 clear &amp; tough commitments is of enormous impact. Proud. \n",
      "\n",
      "38)No better choice for the 1st recipient of this award. So pleased that the citation underscores his work towards social inclusion. There’s nothing I would desire more than for leaders of  to be recognised for creating ‘shared value;’ Doing good, even while doing well. \n",
      "\n",
      "39)_naandi: Welcome to the tribe  !\n",
      "To the crazy _india tribe. \n",
      "\n",
      "After all, as Steve Jobs said “The people who are…\n",
      "\n",
      "40)Lord Dhanvantari emerged from the Manthan to bring us the Amrit of immortality. Climate change is like a great Manthan; a fierce churning reminding us of the supremacy of nature. May we once again receive the gift of Amrit-wisdom &amp; action-to calm the planet. Happy Dhanteras. \n",
      "\n",
      "41): When did we last see so many +ive eco news headlines crammed in a single frame? UPI tranxns topping $100 bn, Diesel sales…\n",
      "\n",
      "42)Halloween in India. Strong evidence that there is no cultural aspect/festival of any country that cannot be seamlessly (well, almost seamlessly!) assimilated by Indians. 🙄 \n",
      "\n",
      "43)Happy Birthday _india Thank you _naandi for getting this magnificent ship embarked on an equally magnificent journey. Being its Chairman has greatly enhanced  the meaning &amp; purpose of my life. \n",
      "\n",
      "44)Yes…. Now, more than ever, time to look forward to  \n",
      "\n",
      "45)After the rather humiliating thrashing we’ve been receiving at the T20WorldCup21 I take great comfort and solace in our rising stars in other sports who are keeping the flag aloft… Bravo Tajamul! \n",
      "\n",
      "46)One of the most rewarding trips I have made in the recent past. The imposing Statue of Unity. Every year, on this day, I pull out this photo &amp; draw inspiration from the original ‘Iron Man.’ The Iron Man of India…🙏🏽🙏🏽🙏🏽 \n",
      "\n",
      "47)I was waiting  to see who would notice that first! You have eagle eyes… \n",
      "\n",
      "48)You made the country proud _chopra1 We hope the XUV, our Chariot of Champions, will make you proud. \n",
      "\n",
      "49): News ➡️ Deliveries of the Mahindra XUV700 have started today. Mahindra has also presented a special Gold Edition XUV70…\n",
      "\n",
      "50)We are so proud of you _javelin Thank you for giving us the privilege of sharing our very own ‘Javelin’ with you! May the Force be with you …always. \n",
      "\n",
      "51)That is an interesting comparison  Gives us great ‘josh!’ \n",
      "\n",
      "52)It was a pleasure to finally meet you  And I enjoy the fact that no discussion with Italian diplomats or businesspersons can be completed without dwelling on the importance in life of design! \n",
      "\n",
      "53)Simon Mundy’s new book. The video says it all.. \n",
      "\n",
      "54)“The greatest race in human history. It will tilt the balance of international power. It will create fortunes on a colossal scale—and destroy them too.”  This book is as gripping as a thriller. But it isn’t fiction; it’s a thriller on whose outcome our lives depend. \n",
      "\n",
      "55)Reminds me of a classified ad during the 60’s claiming that for ₹5, you could mail order a device ‘Guaranteed to kill flies.’  What arrived was a flat wooden board with a depression at one end, a hammer &amp; an instruction sheet saying: “Place fly in depression &amp; hit with hammer.” \n",
      "\n",
      "56)Slowly, steadily, Made in India e-vehicles will navigate the world… \n",
      "\n",
      "57)This is probably the most entertaining &amp; heartwarming handle I follow. No clue why they were suspended for a while. Welcome back! And hey Mali, you have brilliant taste in music—because those are all hits from MY generation…😊 \n",
      "\n",
      "58)…And crossed $20bn in Market Cap as a consequence. You RISE when you drive positive change… \n",
      "\n",
      "59)Strong performance and strong confidence in the industry’s future… \n",
      "\n",
      "60): Love a good family holiday? ✈️ Put on your playing hat to win big on this pitch! Participate in the FamilyPremierLeague2…\n",
      "\n",
      "61)Bravo  Your amazing growth &amp; efficacy have been globally recognised. It’s no surprise that you’ve been accorded this position of leadership. Thank you for making me so proud to be a member of your board. Congratulations &amp; here’s hoping you blaze new trails at WAIPA! \n",
      "\n",
      "62)Delighted that the progress meets your approval  And my gratitude &amp; appreciation to Team Mahindra Research Valley for their commitment to doing the right thing. They are my MondayMotivation \n",
      "\n",
      "63)To say that this was a ‘convincing victory’ for Pakistan would be an understatement. But the beauty of Sport is that it gives us the opportunity to rise above our baser instincts &amp; applaud victorious opponents. And also the opportunity to be resilient &amp; rise again. \n",
      "\n",
      "64)Ok. Good advice. Don’t want to be blamed for a wicket loss… 😬 \n",
      "\n"
     ]
    }
   ],
   "source": [
    "# Print all of the positive tweets\n",
    "j = 1\n",
    "sortedDF = df.sort_values(by=['polarity'])\n",
    "for i in range (0,sortedDF.shape[0]):\n",
    "    if(sortedDF['Analysis'][i]=='Positive'):\n",
    "        print(str(j)+')'+sortedDF['Tweets'][i])\n",
    "        print()\n",
    "        j = j+1"
   ]
  },
  {
   "cell_type": "code",
   "execution_count": 26,
   "id": "0a27efb5",
   "metadata": {},
   "outputs": [
    {
     "name": "stdout",
     "output_type": "stream",
     "text": [
      "1) : ThingsThisWeek\n",
      "Watch out for India’s Oct WPI inflation, foreign trade data &amp; Covid trajectory. Also see US retail sales,…\n",
      "\n",
      "2) Two nations with microscopic populations compared to South Asian countries. Even compared to England. But they’re in the finals having outclassed all others. Sport is about the abundance of spirit as much as it is about the abundance of raw talent… \n",
      "\n",
      "3) And here’s our ‘CODE’ for the next Green Revolution…  A machine like no other; one that will democratise farm mechanisation. Well done Team  ! \n",
      "\n",
      "4) This video is from a couple of years ago, but I don’t think it will ever be ‘dated.’ I like to put it on every now &amp; then, especially when some personal or business goal is looking intimidating or impossible! All my fears vanish instantly… \n",
      "\n",
      "5) :  2 factors.\n",
      "Revenge buying\n",
      "Increased price per unit\n",
      "In my view it's  short-lived phenomenon. A long lull…\n",
      "\n",
      "6) :  Last year was tough for everyone due to covid intensity and also because people realised that future is u…\n",
      "\n",
      "7) A quiet man. His dedication, hard work and actions are loud… His reappointment is a signal of stability and consistency to the world. \n",
      "\n",
      "8) Arrogance always trips you up: \n",
      "Winston Churchill and George Bernard Shaw were entering a building with a narrow passage enough for only one person at a time.\n",
      "Churchill said, “I will go first. I don’t follow idiots.”\n",
      "Shaw smiled and said, “I do.”\n",
      "SignalWonderbox\n",
      "\n",
      "9) : ThingsThisWeek\n",
      "Heavy data week ahead: Watch out for India’s September 8-core and fiscal data esp the Revenue Exp vs Capex…\n",
      "\n"
     ]
    }
   ],
   "source": [
    "# Print the negative tweets\n",
    "j = 1\n",
    "sortedDF = df.sort_values(by=['polarity'],ascending='False')\n",
    "for i in range (0,sortedDF.shape[0]):\n",
    "    if(sortedDF['Analysis'][i]=='Negative'):\n",
    "        print(str(j)+ ') '+sortedDF['Tweets'][i])\n",
    "        print()\n",
    "        j = j+1\n"
   ]
  },
  {
   "cell_type": "code",
   "execution_count": 27,
   "id": "486b946e",
   "metadata": {},
   "outputs": [
    {
     "data": {
      "text/plain": [
       "<function matplotlib.pyplot.show(close=None, block=None)>"
      ]
     },
     "execution_count": 27,
     "metadata": {},
     "output_type": "execute_result"
    },
    {
     "data": {
      "image/png": "[encoded data removed]",
      "text/plain": [
       "<Figure size 576x432 with 1 Axes>"
      ]
     },
     "metadata": {},
     "output_type": "display_data"
    }
   ],
   "source": [
    "# Plot the polarity and subjectivity\n",
    "plt.figure(figsize=(8,6))\n",
    "for i in range(0,df.shape[0]):\n",
    "    plt.scatter(df['polarity'][i],df['Subjectivity'][i],color='Blue')\n",
    "    \n",
    "plt.title('Sentiment Analysis')\n",
    "plt.xlabel('Polarity')\n",
    "plt.ylabel('Subjectivity')\n",
    "plt.show"
   ]
  },
  {
   "cell_type": "code",
   "execution_count": 28,
   "id": "6d660697",
   "metadata": {},
   "outputs": [
    {
     "data": {
      "text/plain": [
       "64.0"
      ]
     },
     "execution_count": 28,
     "metadata": {},
     "output_type": "execute_result"
    }
   ],
   "source": [
    "# Get the percentage of positive tweets\n",
    "ptweets = df[df.Analysis == 'Positive']\n",
    "ptweets = ptweets['Tweets']\n",
    "\n",
    "round((ptweets.shape[0]/df.shape[0])*100,1)"
   ]
  },
  {
   "cell_type": "code",
   "execution_count": 29,
   "id": "c7588f50",
   "metadata": {},
   "outputs": [
    {
     "data": {
      "text/plain": [
       "9.0"
      ]
     },
     "execution_count": 29,
     "metadata": {},
     "output_type": "execute_result"
    }
   ],
   "source": [
    "# Get the percentage of negative tweets\n",
    "ptweets = df[df.Analysis == 'Negative']\n",
    "ptweets = ptweets['Tweets']\n",
    "\n",
    "round((ptweets.shape[0]/df.shape[0])*100,1)"
   ]
  },
  {
   "cell_type": "code",
   "execution_count": 30,
   "id": "eeabcc96",
   "metadata": {},
   "outputs": [
    {
     "data": {
      "text/plain": [
       "Positive    64\n",
       "Neutral     27\n",
       "Negative     9\n",
       "Name: Analysis, dtype: int64"
      ]
     },
     "execution_count": 30,
     "metadata": {},
     "output_type": "execute_result"
    }
   ],
   "source": [
    "# shaow the values counts\n",
    "\n",
    "df['Analysis'].value_counts()"
   ]
  },
  {
   "cell_type": "code",
   "execution_count": 31,
   "id": "7b07ff80",
   "metadata": {},
   "outputs": [
    {
     "data": {
      "image/png": "[encoded data removed]",
      "text/plain": [
       "<Figure size 432x288 with 1 Axes>"
      ]
     },
     "metadata": {},
     "output_type": "display_data"
    }
   ],
   "source": [
    "#plot and visualize the counts\n",
    "plt.title('Sentiment Analysis')\n",
    "plt.xlabel('Sentiment')\n",
    "plt.ylabel('Counts')\n",
    "df['Analysis'].value_counts().plot(kind='bar')\n",
    "plt.show()"
   ]
  },
  {
   "cell_type": "code",
   "execution_count": null,
   "id": "9f934815",
   "metadata": {},
   "outputs": [],
   "source": []
  },
  {
   "cell_type": "code",
   "execution_count": null,
   "id": "d46f68b5",
   "metadata": {},
   "outputs": [],
   "source": []
  },
  {
   "cell_type": "code",
   "execution_count": null,
   "id": "c3600f1d",
   "metadata": {},
   "outputs": [],
   "source": []
  },
  {
   "cell_type": "code",
   "execution_count": null,
   "id": "d557948d",
   "metadata": {},
   "outputs": [],
   "source": []
  },
  {
   "cell_type": "code",
   "execution_count": null,
   "id": "3ea1254d",
   "metadata": {},
   "outputs": [],
   "source": []
  },
  {
   "cell_type": "code",
   "execution_count": null,
   "id": "cbb4e4fd",
   "metadata": {},
   "outputs": [],
   "source": []
  },
  {
   "cell_type": "code",
   "execution_count": null,
   "id": "279b060b",
   "metadata": {},
   "outputs": [],
   "source": []
  },
  {
   "cell_type": "code",
   "execution_count": null,
   "id": "df50cd7d",
   "metadata": {},
   "outputs": [],
   "source": []
  },
  {
   "cell_type": "code",
   "execution_count": null,
   "id": "5f38fd1e",
   "metadata": {},
   "outputs": [],
   "source": []
  },
  {
   "cell_type": "code",
   "execution_count": null,
   "id": "1d377939",
   "metadata": {},
   "outputs": [],
   "source": []
  },
  {
   "cell_type": "code",
   "execution_count": null,
   "id": "bcdf1071",
   "metadata": {},
   "outputs": [],
   "source": []
  },
  {
   "cell_type": "code",
   "execution_count": null,
   "id": "ef7e10fa",
   "metadata": {},
   "outputs": [],
   "source": []
  },
  {
   "cell_type": "code",
   "execution_count": null,
   "id": "8c3f07a0",
   "metadata": {},
   "outputs": [],
   "source": []
  },
  {
   "cell_type": "code",
   "execution_count": null,
   "id": "8dbaf138",
   "metadata": {},
   "outputs": [],
   "source": []
  },
  {
   "cell_type": "code",
   "execution_count": null,
   "id": "91f98ae3",
   "metadata": {},
   "outputs": [],
   "source": []
  },
  {
   "cell_type": "code",
   "execution_count": null,
   "id": "10349bf7",
   "metadata": {},
   "outputs": [],
   "source": []
  },
  {
   "cell_type": "code",
   "execution_count": null,
   "id": "3fb738b2",
   "metadata": {},
   "outputs": [],
   "source": []
  },
  {
   "cell_type": "code",
   "execution_count": null,
   "id": "93d101b5",
   "metadata": {},
   "outputs": [],
   "source": []
  },
  {
   "cell_type": "code",
   "execution_count": null,
   "id": "b50b0363",
   "metadata": {},
   "outputs": [],
   "source": []
  },
  {
   "cell_type": "code",
   "execution_count": null,
   "id": "01753a16",
   "metadata": {},
   "outputs": [],
   "source": []
  },
  {
   "cell_type": "code",
   "execution_count": null,
   "id": "4fe17d6b",
   "metadata": {},
   "outputs": [],
   "source": []
  },
  {
   "cell_type": "code",
   "execution_count": null,
   "id": "2bdde8eb",
   "metadata": {},
   "outputs": [],
   "source": []
  },
  {
   "cell_type": "code",
   "execution_count": null,
   "id": "98d48817",
   "metadata": {},
   "outputs": [],
   "source": []
  },
  {
   "cell_type": "code",
   "execution_count": null,
   "id": "515abdec",
   "metadata": {},
   "outputs": [],
   "source": []
  },
  {
   "cell_type": "code",
   "execution_count": null,
   "id": "1436a021",
   "metadata": {},
   "outputs": [],
   "source": []
  },
  {
   "cell_type": "code",
   "execution_count": null,
   "id": "a4ca845b",
   "metadata": {},
   "outputs": [],
   "source": []
  },
  {
   "cell_type": "code",
   "execution_count": null,
   "id": "09499581",
   "metadata": {},
   "outputs": [],
   "source": []
  },
  {
   "cell_type": "code",
   "execution_count": null,
   "id": "c9cec0e5",
   "metadata": {},
   "outputs": [],
   "source": []
  },
  {
   "cell_type": "code",
   "execution_count": null,
   "id": "c02160a0",
   "metadata": {},
   "outputs": [],
   "source": []
  },
  {
   "cell_type": "code",
   "execution_count": null,
   "id": "f36ac1fa",
   "metadata": {},
   "outputs": [],
   "source": []
  },
  {
   "cell_type": "code",
   "execution_count": null,
   "id": "45519d75",
   "metadata": {},
   "outputs": [],
   "source": []
  },
  {
   "cell_type": "code",
   "execution_count": null,
   "id": "2e7cb3fc",
   "metadata": {},
   "outputs": [],
   "source": []
  },
  {
   "cell_type": "code",
   "execution_count": null,
   "id": "0efe7734",
   "metadata": {},
   "outputs": [],
   "source": []
  },
  {
   "cell_type": "code",
   "execution_count": null,
   "id": "caa17e4b",
   "metadata": {},
   "outputs": [],
   "source": []
  },
  {
   "cell_type": "code",
   "execution_count": null,
   "id": "afdb8b7b",
   "metadata": {},
   "outputs": [],
   "source": []
  },
  {
   "cell_type": "code",
   "execution_count": null,
   "id": "f4202282",
   "metadata": {},
   "outputs": [],
   "source": []
  },
  {
   "cell_type": "code",
   "execution_count": null,
   "id": "950eebcd",
   "metadata": {},
   "outputs": [],
   "source": []
  },
  {
   "cell_type": "code",
   "execution_count": null,
   "id": "3f02edb9",
   "metadata": {},
   "outputs": [],
   "source": []
  },
  {
   "cell_type": "code",
   "execution_count": null,
   "id": "66042f8d",
   "metadata": {},
   "outputs": [],
   "source": []
  },
  {
   "cell_type": "code",
   "execution_count": null,
   "id": "42155a6e",
   "metadata": {},
   "outputs": [],
   "source": []
  },
  {
   "cell_type": "code",
   "execution_count": null,
   "id": "893a2a28",
   "metadata": {},
   "outputs": [],
   "source": []
  },
  {
   "cell_type": "code",
   "execution_count": null,
   "id": "6b82f299",
   "metadata": {},
   "outputs": [],
   "source": []
  },
  {
   "cell_type": "code",
   "execution_count": null,
   "id": "6436c507",
   "metadata": {},
   "outputs": [],
   "source": []
  },
  {
   "cell_type": "code",
   "execution_count": null,
   "id": "9818831b",
   "metadata": {},
   "outputs": [],
   "source": []
  },
  {
   "cell_type": "code",
   "execution_count": null,
   "id": "3bd2a3f9",
   "metadata": {},
   "outputs": [],
   "source": []
  },
  {
   "cell_type": "code",
   "execution_count": null,
   "id": "0b7c3a56",
   "metadata": {},
   "outputs": [],
   "source": []
  },
  {
   "cell_type": "code",
   "execution_count": null,
   "id": "bd4cd47b",
   "metadata": {},
   "outputs": [],
   "source": []
  },
  {
   "cell_type": "code",
   "execution_count": null,
   "id": "d2df0550",
   "metadata": {},
   "outputs": [],
   "source": []
  },
  {
   "cell_type": "code",
   "execution_count": null,
   "id": "df8ee8ce",
   "metadata": {},
   "outputs": [],
   "source": []
  },
  {
   "cell_type": "code",
   "execution_count": null,
   "id": "e8ae4530",
   "metadata": {},
   "outputs": [],
   "source": []
  },
  {
   "cell_type": "code",
   "execution_count": null,
   "id": "2c6bb3b0",
   "metadata": {},
   "outputs": [],
   "source": []
  },
  {
   "cell_type": "code",
   "execution_count": null,
   "id": "ae91276d",
   "metadata": {},
   "outputs": [],
   "source": []
  },
  {
   "cell_type": "code",
   "execution_count": null,
   "id": "f7d94a45",
   "metadata": {},
   "outputs": [],
   "source": []
  },
  {
   "cell_type": "code",
   "execution_count": null,
   "id": "d1625fd1",
   "metadata": {},
   "outputs": [],
   "source": []
  },
  {
   "cell_type": "code",
   "execution_count": null,
   "id": "223f40e9",
   "metadata": {},
   "outputs": [],
   "source": []
  },
  {
   "cell_type": "code",
   "execution_count": null,
   "id": "8a3b42bd",
   "metadata": {},
   "outputs": [],
   "source": []
  },
  {
   "cell_type": "code",
   "execution_count": null,
   "id": "97d03f11",
   "metadata": {},
   "outputs": [],
   "source": []
  },
  {
   "cell_type": "code",
   "execution_count": null,
   "id": "c25ff2c4",
   "metadata": {},
   "outputs": [],
   "source": []
  },
  {
   "cell_type": "code",
   "execution_count": null,
   "id": "5372f586",
   "metadata": {},
   "outputs": [],
   "source": []
  },
  {
   "cell_type": "code",
   "execution_count": null,
   "id": "dbbd13e8",
   "metadata": {},
   "outputs": [],
   "source": []
  },
  {
   "cell_type": "code",
   "execution_count": null,
   "id": "f09ec391",
   "metadata": {},
   "outputs": [],
   "source": []
  },
  {
   "cell_type": "code",
   "execution_count": null,
   "id": "e14d6764",
   "metadata": {},
   "outputs": [],
   "source": []
  },
  {
   "cell_type": "code",
   "execution_count": null,
   "id": "6ddc8423",
   "metadata": {},
   "outputs": [],
   "source": []
  },
  {
   "cell_type": "code",
   "execution_count": null,
   "id": "0e3ffb93",
   "metadata": {},
   "outputs": [],
   "source": []
  },
  {
   "cell_type": "code",
   "execution_count": null,
   "id": "edc81a6b",
   "metadata": {},
   "outputs": [],
   "source": []
  },
  {
   "cell_type": "code",
   "execution_count": null,
   "id": "381dfe71",
   "metadata": {},
   "outputs": [],
   "source": []
  },
  {
   "cell_type": "code",
   "execution_count": null,
   "id": "0b3a6877",
   "metadata": {},
   "outputs": [],
   "source": []
  },
  {
   "cell_type": "code",
   "execution_count": null,
   "id": "a8a62c9c",
   "metadata": {},
   "outputs": [],
   "source": []
  },
  {
   "cell_type": "code",
   "execution_count": null,
   "id": "5d05ffae",
   "metadata": {},
   "outputs": [],
   "source": []
  },
  {
   "cell_type": "code",
   "execution_count": null,
   "id": "d66e9f46",
   "metadata": {},
   "outputs": [],
   "source": []
  },
  {
   "cell_type": "code",
   "execution_count": null,
   "id": "91d0891f",
   "metadata": {},
   "outputs": [],
   "source": []
  },
  {
   "cell_type": "code",
   "execution_count": null,
   "id": "5fc9de7e",
   "metadata": {},
   "outputs": [],
   "source": []
  },
  {
   "cell_type": "code",
   "execution_count": null,
   "id": "3ac090fd",
   "metadata": {},
   "outputs": [],
   "source": []
  },
  {
   "cell_type": "code",
   "execution_count": null,
   "id": "0465215a",
   "metadata": {},
   "outputs": [],
   "source": []
  },
  {
   "cell_type": "code",
   "execution_count": null,
   "id": "3751ef68",
   "metadata": {},
   "outputs": [],
   "source": []
  },
  {
   "cell_type": "code",
   "execution_count": null,
   "id": "c9081750",
   "metadata": {},
   "outputs": [],
   "source": []
  },
  {
   "cell_type": "code",
   "execution_count": null,
   "id": "7a250bd9",
   "metadata": {},
   "outputs": [],
   "source": []
  },
  {
   "cell_type": "code",
   "execution_count": null,
   "id": "927d803d",
   "metadata": {},
   "outputs": [],
   "source": []
  },
  {
   "cell_type": "code",
   "execution_count": null,
   "id": "b52d26b0",
   "metadata": {},
   "outputs": [],
   "source": []
  },
  {
   "cell_type": "code",
   "execution_count": null,
   "id": "d176cfa3",
   "metadata": {},
   "outputs": [],
   "source": []
  }
 ],
 "metadata": {
  "kernelspec": {
   "display_name": "Python 3",
   "language": "python",
   "name": "python3"
  },
  "language_info": {
   "codemirror_mode": {
    "name": "ipython",
    "version": 3
   },
   "file_extension": ".py",
   "mimetype": "text/x-python",
   "name": "python",
   "nbconvert_exporter": "python",
   "pygments_lexer": "ipython3",
   "version": "3.8.8"
  }
 },
 "nbformat": 4,
 "nbformat_minor": 5
}
