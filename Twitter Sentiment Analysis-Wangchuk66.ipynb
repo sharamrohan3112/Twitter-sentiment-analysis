{
 "cells": [
  {
   "cell_type": "code",
   "execution_count": 101,
   "id": "81d82c69",
   "metadata": {},
   "outputs": [],
   "source": [
    "#Import the Libraries\n",
    "import tweepy\n",
    "from textblob import TextBlob\n",
    "from wordcloud import WordCloud\n",
    "import pandas as pd\n",
    "import numpy as np\n",
    "import re\n",
    "import matplotlib.pyplot as plt\n",
    "plt.style.use('fivethirtyeight')\n"
   ]
  },
  {
   "cell_type": "code",
   "execution_count": 102,
   "id": "d98af0a8",
   "metadata": {},
   "outputs": [],
   "source": [
    "log = pd.read_csv(r'C:/Users/Rohan/Desktop/Twitter API 5.csv')"
   ]
  },
  {
   "cell_type": "code",
   "execution_count": 103,
   "id": "e57fd1d2",
   "metadata": {},
   "outputs": [],
   "source": [
    "# Twitter API credentials\n",
    "AccessToken = log['Key'][0]\n",
    "AccessTokenSecret = log['Key'][1]\n",
    "ConsumerKey = log['Key'][2]\n",
    "ConsumerKeySecret = log['Key'][3]"
   ]
  },
  {
   "cell_type": "code",
   "execution_count": 104,
   "id": "a6bfc5a6",
   "metadata": {},
   "outputs": [],
   "source": [
    "#Create the authentication object\n",
    "authenticate = tweepy.OAuthHandler(ConsumerKey,ConsumerKeySecret)\n"
   ]
  },
  {
   "cell_type": "code",
   "execution_count": 105,
   "id": "783dd16a",
   "metadata": {},
   "outputs": [],
   "source": [
    "#Set the acess token and access token secret\n",
    "authenticate.set_access_token(AccessToken, AccessTokenSecret)"
   ]
  },
  {
   "cell_type": "code",
   "execution_count": 106,
   "id": "436f1904",
   "metadata": {},
   "outputs": [],
   "source": [
    "# Create the API object while passing in the auth information\n",
    "api = tweepy.API(authenticate,wait_on_rate_limit=True)"
   ]
  },
  {
   "cell_type": "code",
   "execution_count": 107,
   "id": "fdf1aff8",
   "metadata": {},
   "outputs": [],
   "source": [
    "#Wangchuk66"
   ]
  },
  {
   "cell_type": "code",
   "execution_count": 108,
   "id": "a078cdbf",
   "metadata": {},
   "outputs": [
    {
     "name": "stderr",
     "output_type": "stream",
     "text": [
      "Unexpected parameter: lang\n"
     ]
    }
   ],
   "source": [
    "# Extract 100 Tweets from the twitter user\n",
    "posts = api.user_timeline(screen_name = 'Wangchuk66',count = 100 ,lang = 'en' ,tweet_mode ='extended')"
   ]
  },
  {
   "cell_type": "code",
   "execution_count": 109,
   "id": "c5dcc6c6",
   "metadata": {},
   "outputs": [
    {
     "name": "stdout",
     "output_type": "stream",
     "text": [
      "show the 10 tweets: \n",
      "\n",
      "@TribalAffairsIn @MundaArjun @PMOIndia https://t.co/IsSHkTXcdG\n",
      "\n",
      "Dear @narendramodi ji @PMOIndia\n",
      "Truly grateful for #TribalPrideDay\n",
      "Hope you'll also honor patriots of Ladakh by giving safeguarding to their culture, land &amp; environment under 6th Schedule of constitution.\n",
      "It was promised 2 yrs ago &amp; still awaited\n",
      "#SaveLadakh #6thSceduleForLadakh https://t.co/MI3flxFguU\n",
      "\n",
      "Hon PM @narendramodi ji\n",
      "Please #SaveLehAirport\n",
      "I'm a great admirer of your vision of #CarbonNeutralLadakh &amp; #CarbonNeutralIndia but the #LehAirport is going 180° backwards...\n",
      "We can act now or regret later!\n",
      "@PMOIndia\n",
      "@LehAirport @utladakhtourism @beeindiadigital @AAI__Official https://t.co/z17PWmZthZ\n",
      "\n",
      "Himalayan Institute of Alternatives, Ladakh observed its 1st Annual Convocation Ceremony on October 27th, 2021 at HIAL campus. \n",
      "The Chief Guest for the occasion was Vandana Shiva, environmental activist, food sovereignty advocate, ecofeministHIAL #HIALconvocation  #VandanaShiva https://t.co/vkRe4LsZ2B\n",
      "\n",
      "ITBP GOING GREEN\n",
      "It was a pleasure meeting Sh Hemant Priyadarshi IPS,  ADG ITBP and  Sh Lhari Dorjey IG ITBP at HIAL.  Discussed various options for Passive Solar Heated buildings at forward locations on Indo China Border. \n",
      "#GreenITBP  #GreenArmy \n",
      "#atmanirbharbharat https://t.co/JORQl6WzG3\n",
      "\n",
      "WORLD HABITAT DAY\n",
      "Theme 2021: Urban Action For A Carbon Free World\n",
      "@PMOIndia has already declared #CarbonNeutralLadakh\n",
      "\n",
      "Happy to share today that our R&amp;D of last 30 years has yielded some interesting results in #PassiveSolarHeated Houses (PSH)!\n",
      "#ClimateAction @adgpi #ILiveSimply https://t.co/r0PYTv6xan\n",
      "\n",
      "Just realised... \n",
      "Gandhiji's teachings are equally relevant in this digital social media age!\n",
      "#HappyGandhiJayati https://t.co/mak6BeWHgY\n",
      "\n",
      "India's Defence Secretary eager to make Ladakh #CarbonNeutral through innovation in  #PassiveSolar shelters for #indianarmy &amp; #borderroads in #Ladakh\n",
      "#ILiveSimply #ClimateAction #Climatechange  #SaveTheGlaciers https://t.co/EU7CcSKTvY\n",
      "\n",
      "🤦‍♂️ https://t.co/T28QULAiDE\n",
      "\n",
      "On #KargilVijayDiwas SHARING A TOUCHING STORY\n",
      "https://t.co/jSe8MRsZzM\n",
      "He was awarded Nishan-e-haider on recommendation of Brig Bajwa of Indian Army\n",
      "Now u understand the song:\n",
      "Phauladi hai seena apna phoolon jaisa dil hai...\n",
      "Tan mein Vindhyachal ka bal hai Man mein Taj Mahal hai!\n",
      "\n"
     ]
    }
   ],
   "source": [
    "# Print the last 10 tweets from the account\n",
    "print ('show the 10 tweets: \\n')\n",
    "for tweet in posts[0:10]:\n",
    "    print (tweet.full_text + '\\n')"
   ]
  },
  {
   "cell_type": "code",
   "execution_count": 110,
   "id": "3632a095",
   "metadata": {
    "collapsed": true
   },
   "outputs": [
    {
     "name": "stdout",
     "output_type": "stream",
     "text": [
      "show the 10 tweets: \n",
      "\n",
      "1)@TribalAffairsIn @MundaArjun @PMOIndia https://t.co/IsSHkTXcdG\n",
      "\n",
      "2)Dear @narendramodi ji @PMOIndia\n",
      "Truly grateful for #TribalPrideDay\n",
      "Hope you'll also honor patriots of Ladakh by giving safeguarding to their culture, land &amp; environment under 6th Schedule of constitution.\n",
      "It was promised 2 yrs ago &amp; still awaited\n",
      "#SaveLadakh #6thSceduleForLadakh https://t.co/MI3flxFguU\n",
      "\n",
      "3)Hon PM @narendramodi ji\n",
      "Please #SaveLehAirport\n",
      "I'm a great admirer of your vision of #CarbonNeutralLadakh &amp; #CarbonNeutralIndia but the #LehAirport is going 180° backwards...\n",
      "We can act now or regret later!\n",
      "@PMOIndia\n",
      "@LehAirport @utladakhtourism @beeindiadigital @AAI__Official https://t.co/z17PWmZthZ\n",
      "\n",
      "4)Himalayan Institute of Alternatives, Ladakh observed its 1st Annual Convocation Ceremony on October 27th, 2021 at HIAL campus. \n",
      "The Chief Guest for the occasion was Vandana Shiva, environmental activist, food sovereignty advocate, ecofeministHIAL #HIALconvocation  #VandanaShiva https://t.co/vkRe4LsZ2B\n",
      "\n",
      "5)ITBP GOING GREEN\n",
      "It was a pleasure meeting Sh Hemant Priyadarshi IPS,  ADG ITBP and  Sh Lhari Dorjey IG ITBP at HIAL.  Discussed various options for Passive Solar Heated buildings at forward locations on Indo China Border. \n",
      "#GreenITBP  #GreenArmy \n",
      "#atmanirbharbharat https://t.co/JORQl6WzG3\n",
      "\n",
      "6)WORLD HABITAT DAY\n",
      "Theme 2021: Urban Action For A Carbon Free World\n",
      "@PMOIndia has already declared #CarbonNeutralLadakh\n",
      "\n",
      "Happy to share today that our R&amp;D of last 30 years has yielded some interesting results in #PassiveSolarHeated Houses (PSH)!\n",
      "#ClimateAction @adgpi #ILiveSimply https://t.co/r0PYTv6xan\n",
      "\n",
      "7)Just realised... \n",
      "Gandhiji's teachings are equally relevant in this digital social media age!\n",
      "#HappyGandhiJayati https://t.co/mak6BeWHgY\n",
      "\n",
      "8)India's Defence Secretary eager to make Ladakh #CarbonNeutral through innovation in  #PassiveSolar shelters for #indianarmy &amp; #borderroads in #Ladakh\n",
      "#ILiveSimply #ClimateAction #Climatechange  #SaveTheGlaciers https://t.co/EU7CcSKTvY\n",
      "\n",
      "9)🤦‍♂️ https://t.co/T28QULAiDE\n",
      "\n",
      "10)On #KargilVijayDiwas SHARING A TOUCHING STORY\n",
      "https://t.co/jSe8MRsZzM\n",
      "He was awarded Nishan-e-haider on recommendation of Brig Bajwa of Indian Army\n",
      "Now u understand the song:\n",
      "Phauladi hai seena apna phoolon jaisa dil hai...\n",
      "Tan mein Vindhyachal ka bal hai Man mein Taj Mahal hai!\n",
      "\n"
     ]
    }
   ],
   "source": [
    "# Print the last 10 tweets from the account\n",
    "print ('show the 10 tweets: \\n')\n",
    "i=1\n",
    "for tweet in posts[0:10]:\n",
    "    print (str(i)+')'+ tweet.full_text + '\\n')\n",
    "    i = i + 1"
   ]
  },
  {
   "cell_type": "code",
   "execution_count": 113,
   "id": "74bfc37c",
   "metadata": {},
   "outputs": [],
   "source": [
    "# Create a dataframe with a column called twets\n",
    "df = pd.DataFrame([tweet.full_text for tweet in posts], columns=['Tweets'])"
   ]
  },
  {
   "cell_type": "code",
   "execution_count": 114,
   "id": "82c2f577",
   "metadata": {},
   "outputs": [
    {
     "data": {
      "text/html": [
       "<div>\n",
       "<style scoped>\n",
       "    .dataframe tbody tr th:only-of-type {\n",
       "        vertical-align: middle;\n",
       "    }\n",
       "\n",
       "    .dataframe tbody tr th {\n",
       "        vertical-align: top;\n",
       "    }\n",
       "\n",
       "    .dataframe thead th {\n",
       "        text-align: right;\n",
       "    }\n",
       "</style>\n",
       "<table border=\"1\" class=\"dataframe\">\n",
       "  <thead>\n",
       "    <tr style=\"text-align: right;\">\n",
       "      <th></th>\n",
       "      <th>Tweets</th>\n",
       "    </tr>\n",
       "  </thead>\n",
       "  <tbody>\n",
       "    <tr>\n",
       "      <th>0</th>\n",
       "      <td>@TribalAffairsIn @MundaArjun @PMOIndia https:/...</td>\n",
       "    </tr>\n",
       "    <tr>\n",
       "      <th>1</th>\n",
       "      <td>Dear @narendramodi ji @PMOIndia\\nTruly gratefu...</td>\n",
       "    </tr>\n",
       "    <tr>\n",
       "      <th>2</th>\n",
       "      <td>Hon PM @narendramodi ji\\nPlease #SaveLehAirpor...</td>\n",
       "    </tr>\n",
       "    <tr>\n",
       "      <th>3</th>\n",
       "      <td>Himalayan Institute of Alternatives, Ladakh ob...</td>\n",
       "    </tr>\n",
       "    <tr>\n",
       "      <th>4</th>\n",
       "      <td>ITBP GOING GREEN\\nIt was a pleasure meeting Sh...</td>\n",
       "    </tr>\n",
       "    <tr>\n",
       "      <th>...</th>\n",
       "      <td>...</td>\n",
       "    </tr>\n",
       "    <tr>\n",
       "      <th>92</th>\n",
       "      <td>Just came out on BBC World Service...\\n\\nBoyco...</td>\n",
       "    </tr>\n",
       "    <tr>\n",
       "      <th>93</th>\n",
       "      <td>Pleased to be speaking at RCC Chennai...\\n\\n@R...</td>\n",
       "    </tr>\n",
       "    <tr>\n",
       "      <th>94</th>\n",
       "      <td>SAD IF TRUE\\n“For now, downloading Chinese app...</td>\n",
       "    </tr>\n",
       "    <tr>\n",
       "      <th>95</th>\n",
       "      <td>ANOTHER YOUNG INDIAN ENTREPRENEUR...\\n\\nBest w...</td>\n",
       "    </tr>\n",
       "    <tr>\n",
       "      <th>96</th>\n",
       "      <td>We Should Boycott Chinese Products For Ethical...</td>\n",
       "    </tr>\n",
       "  </tbody>\n",
       "</table>\n",
       "<p>97 rows × 1 columns</p>\n",
       "</div>"
      ],
      "text/plain": [
       "                                               Tweets\n",
       "0   @TribalAffairsIn @MundaArjun @PMOIndia https:/...\n",
       "1   Dear @narendramodi ji @PMOIndia\\nTruly gratefu...\n",
       "2   Hon PM @narendramodi ji\\nPlease #SaveLehAirpor...\n",
       "3   Himalayan Institute of Alternatives, Ladakh ob...\n",
       "4   ITBP GOING GREEN\\nIt was a pleasure meeting Sh...\n",
       "..                                                ...\n",
       "92  Just came out on BBC World Service...\\n\\nBoyco...\n",
       "93  Pleased to be speaking at RCC Chennai...\\n\\n@R...\n",
       "94  SAD IF TRUE\\n“For now, downloading Chinese app...\n",
       "95  ANOTHER YOUNG INDIAN ENTREPRENEUR...\\n\\nBest w...\n",
       "96  We Should Boycott Chinese Products For Ethical...\n",
       "\n",
       "[97 rows x 1 columns]"
      ]
     },
     "execution_count": 114,
     "metadata": {},
     "output_type": "execute_result"
    }
   ],
   "source": [
    "df"
   ]
  },
  {
   "cell_type": "code",
   "execution_count": 145,
   "id": "84622eb7",
   "metadata": {},
   "outputs": [
    {
     "data": {
      "text/plain": [
       "'   https://t.co/IsSHkTXcdG'"
      ]
     },
     "execution_count": 145,
     "metadata": {},
     "output_type": "execute_result"
    }
   ],
   "source": [
    "df.loc[0].values[0]"
   ]
  },
  {
   "cell_type": "code",
   "execution_count": 146,
   "id": "1b642ea3",
   "metadata": {},
   "outputs": [
    {
     "data": {
      "text/plain": [
       "\"Dear  ji \\nTruly grateful for TribalPrideDay\\nHope you'll also honor patriots of Ladakh by giving safeguarding to their culture, land &amp; environment under 6th Schedule of constitution.\\nIt was promised 2 yrs ago &amp; still awaited\\nSaveLadakh 6thSceduleForLadakh https://t.co/MI3flxFguU\""
      ]
     },
     "execution_count": 146,
     "metadata": {},
     "output_type": "execute_result"
    }
   ],
   "source": [
    "df.loc[1].values[0]"
   ]
  },
  {
   "cell_type": "code",
   "execution_count": 163,
   "id": "48c28543",
   "metadata": {},
   "outputs": [],
   "source": [
    "# Clean the text\n",
    "\n",
    "# Create a function to clean the tweets\n",
    "def cleanTxt(text):\n",
    "    text = re.sub(r'@[A-Za-z0-9]+','',text) # Removed @mentions\n",
    "    text = re.sub(r'#','',text) #Removing the \"#\" symbol\n",
    "    text = re.sub(r'RT[\\s]+','',text) #Removing RT\n",
    "    text = re.sub(r'https?:\\/\\/\\S+','',text) #Removing the hyper \n",
    "    #text = re.sub(r'https?:\\/\\/\\S*','',text, flags=re.MULTILINE)\n",
    "    \n",
    "    \n",
    "    return text"
   ]
  },
  {
   "cell_type": "code",
   "execution_count": 164,
   "id": "6327e13e",
   "metadata": {},
   "outputs": [],
   "source": [
    "# Cleaning the text\n",
    "df['Tweets'] = df['Tweets'].apply(cleanTxt)"
   ]
  },
  {
   "cell_type": "code",
   "execution_count": 165,
   "id": "10013ac1",
   "metadata": {},
   "outputs": [
    {
     "data": {
      "text/html": [
       "<div>\n",
       "<style scoped>\n",
       "    .dataframe tbody tr th:only-of-type {\n",
       "        vertical-align: middle;\n",
       "    }\n",
       "\n",
       "    .dataframe tbody tr th {\n",
       "        vertical-align: top;\n",
       "    }\n",
       "\n",
       "    .dataframe thead th {\n",
       "        text-align: right;\n",
       "    }\n",
       "</style>\n",
       "<table border=\"1\" class=\"dataframe\">\n",
       "  <thead>\n",
       "    <tr style=\"text-align: right;\">\n",
       "      <th></th>\n",
       "      <th>Tweets</th>\n",
       "    </tr>\n",
       "  </thead>\n",
       "  <tbody>\n",
       "    <tr>\n",
       "      <th>0</th>\n",
       "      <td></td>\n",
       "    </tr>\n",
       "    <tr>\n",
       "      <th>1</th>\n",
       "      <td>Dear  ji \\nTruly grateful for TribalPrideDay\\n...</td>\n",
       "    </tr>\n",
       "    <tr>\n",
       "      <th>2</th>\n",
       "      <td>Hon PM  ji\\nPlease SaveLehAirport\\nI'm a great...</td>\n",
       "    </tr>\n",
       "    <tr>\n",
       "      <th>3</th>\n",
       "      <td>Himalayan Institute of Alternatives, Ladakh ob...</td>\n",
       "    </tr>\n",
       "    <tr>\n",
       "      <th>4</th>\n",
       "      <td>ITBP GOING GREEN\\nIt was a pleasure meeting Sh...</td>\n",
       "    </tr>\n",
       "    <tr>\n",
       "      <th>...</th>\n",
       "      <td>...</td>\n",
       "    </tr>\n",
       "    <tr>\n",
       "      <th>92</th>\n",
       "      <td>Just came out on BBC World Service...\\n\\nBoyco...</td>\n",
       "    </tr>\n",
       "    <tr>\n",
       "      <th>93</th>\n",
       "      <td>Pleased to be speaking at RCC Chennai...\\n\\n</td>\n",
       "    </tr>\n",
       "    <tr>\n",
       "      <th>94</th>\n",
       "      <td>SAD IF TRUE\\n“For now, downloading Chinese app...</td>\n",
       "    </tr>\n",
       "    <tr>\n",
       "      <th>95</th>\n",
       "      <td>ANOTHER YOUNG INDIAN ENTREPRENEUR...\\n\\nBest w...</td>\n",
       "    </tr>\n",
       "    <tr>\n",
       "      <th>96</th>\n",
       "      <td>We Should Boycott Chinese Products For Ethical...</td>\n",
       "    </tr>\n",
       "  </tbody>\n",
       "</table>\n",
       "<p>97 rows × 1 columns</p>\n",
       "</div>"
      ],
      "text/plain": [
       "                                               Tweets\n",
       "0                                                    \n",
       "1   Dear  ji \\nTruly grateful for TribalPrideDay\\n...\n",
       "2   Hon PM  ji\\nPlease SaveLehAirport\\nI'm a great...\n",
       "3   Himalayan Institute of Alternatives, Ladakh ob...\n",
       "4   ITBP GOING GREEN\\nIt was a pleasure meeting Sh...\n",
       "..                                                ...\n",
       "92  Just came out on BBC World Service...\\n\\nBoyco...\n",
       "93      Pleased to be speaking at RCC Chennai...\\n\\n \n",
       "94  SAD IF TRUE\\n“For now, downloading Chinese app...\n",
       "95  ANOTHER YOUNG INDIAN ENTREPRENEUR...\\n\\nBest w...\n",
       "96  We Should Boycott Chinese Products For Ethical...\n",
       "\n",
       "[97 rows x 1 columns]"
      ]
     },
     "execution_count": 165,
     "metadata": {},
     "output_type": "execute_result"
    }
   ],
   "source": [
    "#Show the cleaned text\n",
    "df"
   ]
  },
  {
   "cell_type": "code",
   "execution_count": 166,
   "id": "7947eaa4",
   "metadata": {
    "collapsed": true
   },
   "outputs": [
    {
     "data": {
      "text/plain": [
       "'   '"
      ]
     },
     "execution_count": 166,
     "metadata": {},
     "output_type": "execute_result"
    }
   ],
   "source": [
    "df.loc[0].values[0]"
   ]
  },
  {
   "cell_type": "code",
   "execution_count": 170,
   "id": "dc198707",
   "metadata": {},
   "outputs": [],
   "source": [
    "# Create a function to get the subjectivity\n",
    "\n",
    "def getSubjectivity(text):\n",
    "    return TextBlob(text).sentiment.subjectivity\n",
    "\n",
    "# Create a function to get the polarity\n",
    "\n",
    "def getPolarity(text):\n",
    "    return TextBlob(text).sentiment.polarity\n",
    "\n",
    "# Create two new columns\n",
    "\n",
    "df['Subjectivity'] = df['Tweets'].apply(getSubjectivity)\n",
    "df['polarity'] = df['Tweets'].apply(getPolarity)"
   ]
  },
  {
   "cell_type": "code",
   "execution_count": 171,
   "id": "1a427f73",
   "metadata": {},
   "outputs": [
    {
     "data": {
      "text/html": [
       "<div>\n",
       "<style scoped>\n",
       "    .dataframe tbody tr th:only-of-type {\n",
       "        vertical-align: middle;\n",
       "    }\n",
       "\n",
       "    .dataframe tbody tr th {\n",
       "        vertical-align: top;\n",
       "    }\n",
       "\n",
       "    .dataframe thead th {\n",
       "        text-align: right;\n",
       "    }\n",
       "</style>\n",
       "<table border=\"1\" class=\"dataframe\">\n",
       "  <thead>\n",
       "    <tr style=\"text-align: right;\">\n",
       "      <th></th>\n",
       "      <th>Tweets</th>\n",
       "      <th>Subjectivity</th>\n",
       "      <th>polarity</th>\n",
       "    </tr>\n",
       "  </thead>\n",
       "  <tbody>\n",
       "    <tr>\n",
       "      <th>0</th>\n",
       "      <td></td>\n",
       "      <td>0.000</td>\n",
       "      <td>0.000000</td>\n",
       "    </tr>\n",
       "    <tr>\n",
       "      <th>1</th>\n",
       "      <td>Dear  ji \\nTruly grateful for TribalPrideDay\\n...</td>\n",
       "      <td>0.000</td>\n",
       "      <td>0.000000</td>\n",
       "    </tr>\n",
       "    <tr>\n",
       "      <th>2</th>\n",
       "      <td>Hon PM  ji\\nPlease SaveLehAirport\\nI'm a great...</td>\n",
       "      <td>0.375</td>\n",
       "      <td>0.400000</td>\n",
       "    </tr>\n",
       "    <tr>\n",
       "      <th>3</th>\n",
       "      <td>Himalayan Institute of Alternatives, Ladakh ob...</td>\n",
       "      <td>0.000</td>\n",
       "      <td>0.000000</td>\n",
       "    </tr>\n",
       "    <tr>\n",
       "      <th>4</th>\n",
       "      <td>ITBP GOING GREEN\\nIt was a pleasure meeting Sh...</td>\n",
       "      <td>0.400</td>\n",
       "      <td>-0.100000</td>\n",
       "    </tr>\n",
       "    <tr>\n",
       "      <th>...</th>\n",
       "      <td>...</td>\n",
       "      <td>...</td>\n",
       "      <td>...</td>\n",
       "    </tr>\n",
       "    <tr>\n",
       "      <th>92</th>\n",
       "      <td>Just came out on BBC World Service...\\n\\nBoyco...</td>\n",
       "      <td>0.000</td>\n",
       "      <td>0.000000</td>\n",
       "    </tr>\n",
       "    <tr>\n",
       "      <th>93</th>\n",
       "      <td>Pleased to be speaking at RCC Chennai...\\n\\n</td>\n",
       "      <td>1.000</td>\n",
       "      <td>0.500000</td>\n",
       "    </tr>\n",
       "    <tr>\n",
       "      <th>94</th>\n",
       "      <td>SAD IF TRUE\\n“For now, downloading Chinese app...</td>\n",
       "      <td>0.285</td>\n",
       "      <td>-0.131667</td>\n",
       "    </tr>\n",
       "    <tr>\n",
       "      <th>95</th>\n",
       "      <td>ANOTHER YOUNG INDIAN ENTREPRENEUR...\\n\\nBest w...</td>\n",
       "      <td>0.350</td>\n",
       "      <td>0.550000</td>\n",
       "    </tr>\n",
       "    <tr>\n",
       "      <th>96</th>\n",
       "      <td>We Should Boycott Chinese Products For Ethical...</td>\n",
       "      <td>0.300</td>\n",
       "      <td>0.100000</td>\n",
       "    </tr>\n",
       "  </tbody>\n",
       "</table>\n",
       "<p>97 rows × 3 columns</p>\n",
       "</div>"
      ],
      "text/plain": [
       "                                               Tweets  Subjectivity  polarity\n",
       "0                                                             0.000  0.000000\n",
       "1   Dear  ji \\nTruly grateful for TribalPrideDay\\n...         0.000  0.000000\n",
       "2   Hon PM  ji\\nPlease SaveLehAirport\\nI'm a great...         0.375  0.400000\n",
       "3   Himalayan Institute of Alternatives, Ladakh ob...         0.000  0.000000\n",
       "4   ITBP GOING GREEN\\nIt was a pleasure meeting Sh...         0.400 -0.100000\n",
       "..                                                ...           ...       ...\n",
       "92  Just came out on BBC World Service...\\n\\nBoyco...         0.000  0.000000\n",
       "93      Pleased to be speaking at RCC Chennai...\\n\\n          1.000  0.500000\n",
       "94  SAD IF TRUE\\n“For now, downloading Chinese app...         0.285 -0.131667\n",
       "95  ANOTHER YOUNG INDIAN ENTREPRENEUR...\\n\\nBest w...         0.350  0.550000\n",
       "96  We Should Boycott Chinese Products For Ethical...         0.300  0.100000\n",
       "\n",
       "[97 rows x 3 columns]"
      ]
     },
     "execution_count": 171,
     "metadata": {},
     "output_type": "execute_result"
    }
   ],
   "source": [
    "# Show the new Dataframe with the new columns\n",
    "df"
   ]
  },
  {
   "cell_type": "code",
   "execution_count": 175,
   "id": "f35aeadf",
   "metadata": {},
   "outputs": [],
   "source": [
    "# Visual word cloud\n",
    "allWords = ' '.join([tweets for tweets in df['Tweets']])\n",
    "wordCloud = WordCloud(width = 500,height=300,random_state=21,max_font_size=119).generate(allWords)"
   ]
  },
  {
   "cell_type": "code",
   "execution_count": 176,
   "id": "63b8c0b6",
   "metadata": {},
   "outputs": [
    {
     "data": {
      "image/png": "[encoded data removed]",
      "text/plain": [
       "<Figure size 432x288 with 1 Axes>"
      ]
     },
     "metadata": {},
     "output_type": "display_data"
    }
   ],
   "source": [
    "plt.imshow(wordCloud,interpolation='bilinear')\n",
    "plt.axis('off')\n",
    "plt.show()"
   ]
  },
  {
   "cell_type": "code",
   "execution_count": 178,
   "id": "8a9b68de",
   "metadata": {},
   "outputs": [],
   "source": [
    "# Create a function to compute the negative , neutral and positive analysis\n",
    "\n",
    "def getAnalysis(score):\n",
    "    if score < 0:\n",
    "        return 'Negative'\n",
    "    elif score == 0:\n",
    "        return 'Neutral'\n",
    "    else:\n",
    "        return 'Positive'\n",
    "df['Analysis'] = df['polarity'].apply(getAnalysis)"
   ]
  },
  {
   "cell_type": "code",
   "execution_count": 179,
   "id": "d9afaaaa",
   "metadata": {},
   "outputs": [
    {
     "data": {
      "text/html": [
       "<div>\n",
       "<style scoped>\n",
       "    .dataframe tbody tr th:only-of-type {\n",
       "        vertical-align: middle;\n",
       "    }\n",
       "\n",
       "    .dataframe tbody tr th {\n",
       "        vertical-align: top;\n",
       "    }\n",
       "\n",
       "    .dataframe thead th {\n",
       "        text-align: right;\n",
       "    }\n",
       "</style>\n",
       "<table border=\"1\" class=\"dataframe\">\n",
       "  <thead>\n",
       "    <tr style=\"text-align: right;\">\n",
       "      <th></th>\n",
       "      <th>Tweets</th>\n",
       "      <th>Subjectivity</th>\n",
       "      <th>polarity</th>\n",
       "      <th>Analysis</th>\n",
       "    </tr>\n",
       "  </thead>\n",
       "  <tbody>\n",
       "    <tr>\n",
       "      <th>0</th>\n",
       "      <td></td>\n",
       "      <td>0.000</td>\n",
       "      <td>0.000000</td>\n",
       "      <td>Neutral</td>\n",
       "    </tr>\n",
       "    <tr>\n",
       "      <th>1</th>\n",
       "      <td>Dear  ji \\nTruly grateful for TribalPrideDay\\n...</td>\n",
       "      <td>0.000</td>\n",
       "      <td>0.000000</td>\n",
       "      <td>Neutral</td>\n",
       "    </tr>\n",
       "    <tr>\n",
       "      <th>2</th>\n",
       "      <td>Hon PM  ji\\nPlease SaveLehAirport\\nI'm a great...</td>\n",
       "      <td>0.375</td>\n",
       "      <td>0.400000</td>\n",
       "      <td>Positive</td>\n",
       "    </tr>\n",
       "    <tr>\n",
       "      <th>3</th>\n",
       "      <td>Himalayan Institute of Alternatives, Ladakh ob...</td>\n",
       "      <td>0.000</td>\n",
       "      <td>0.000000</td>\n",
       "      <td>Neutral</td>\n",
       "    </tr>\n",
       "    <tr>\n",
       "      <th>4</th>\n",
       "      <td>ITBP GOING GREEN\\nIt was a pleasure meeting Sh...</td>\n",
       "      <td>0.400</td>\n",
       "      <td>-0.100000</td>\n",
       "      <td>Negative</td>\n",
       "    </tr>\n",
       "    <tr>\n",
       "      <th>...</th>\n",
       "      <td>...</td>\n",
       "      <td>...</td>\n",
       "      <td>...</td>\n",
       "      <td>...</td>\n",
       "    </tr>\n",
       "    <tr>\n",
       "      <th>92</th>\n",
       "      <td>Just came out on BBC World Service...\\n\\nBoyco...</td>\n",
       "      <td>0.000</td>\n",
       "      <td>0.000000</td>\n",
       "      <td>Neutral</td>\n",
       "    </tr>\n",
       "    <tr>\n",
       "      <th>93</th>\n",
       "      <td>Pleased to be speaking at RCC Chennai...\\n\\n</td>\n",
       "      <td>1.000</td>\n",
       "      <td>0.500000</td>\n",
       "      <td>Positive</td>\n",
       "    </tr>\n",
       "    <tr>\n",
       "      <th>94</th>\n",
       "      <td>SAD IF TRUE\\n“For now, downloading Chinese app...</td>\n",
       "      <td>0.285</td>\n",
       "      <td>-0.131667</td>\n",
       "      <td>Negative</td>\n",
       "    </tr>\n",
       "    <tr>\n",
       "      <th>95</th>\n",
       "      <td>ANOTHER YOUNG INDIAN ENTREPRENEUR...\\n\\nBest w...</td>\n",
       "      <td>0.350</td>\n",
       "      <td>0.550000</td>\n",
       "      <td>Positive</td>\n",
       "    </tr>\n",
       "    <tr>\n",
       "      <th>96</th>\n",
       "      <td>We Should Boycott Chinese Products For Ethical...</td>\n",
       "      <td>0.300</td>\n",
       "      <td>0.100000</td>\n",
       "      <td>Positive</td>\n",
       "    </tr>\n",
       "  </tbody>\n",
       "</table>\n",
       "<p>97 rows × 4 columns</p>\n",
       "</div>"
      ],
      "text/plain": [
       "                                               Tweets  Subjectivity  polarity  \\\n",
       "0                                                             0.000  0.000000   \n",
       "1   Dear  ji \\nTruly grateful for TribalPrideDay\\n...         0.000  0.000000   \n",
       "2   Hon PM  ji\\nPlease SaveLehAirport\\nI'm a great...         0.375  0.400000   \n",
       "3   Himalayan Institute of Alternatives, Ladakh ob...         0.000  0.000000   \n",
       "4   ITBP GOING GREEN\\nIt was a pleasure meeting Sh...         0.400 -0.100000   \n",
       "..                                                ...           ...       ...   \n",
       "92  Just came out on BBC World Service...\\n\\nBoyco...         0.000  0.000000   \n",
       "93      Pleased to be speaking at RCC Chennai...\\n\\n          1.000  0.500000   \n",
       "94  SAD IF TRUE\\n“For now, downloading Chinese app...         0.285 -0.131667   \n",
       "95  ANOTHER YOUNG INDIAN ENTREPRENEUR...\\n\\nBest w...         0.350  0.550000   \n",
       "96  We Should Boycott Chinese Products For Ethical...         0.300  0.100000   \n",
       "\n",
       "    Analysis  \n",
       "0    Neutral  \n",
       "1    Neutral  \n",
       "2   Positive  \n",
       "3    Neutral  \n",
       "4   Negative  \n",
       "..       ...  \n",
       "92   Neutral  \n",
       "93  Positive  \n",
       "94  Negative  \n",
       "95  Positive  \n",
       "96  Positive  \n",
       "\n",
       "[97 rows x 4 columns]"
      ]
     },
     "execution_count": 179,
     "metadata": {},
     "output_type": "execute_result"
    }
   ],
   "source": [
    "# Show the dataframe\n",
    "\n",
    "df"
   ]
  },
  {
   "cell_type": "code",
   "execution_count": 183,
   "id": "b6637eb8",
   "metadata": {
    "collapsed": true
   },
   "outputs": [
    {
     "name": "stdout",
     "output_type": "stream",
     "text": [
      "1)Hon PM  ji\n",
      "Please SaveLehAirport\n",
      "I'm a great admirer of your vision of CarbonNeutralLadakh &amp; CarbonNeutralIndia but the LehAirport is going 180° backwards...\n",
      "We can act now or regret later!\n",
      "\n",
      "   __Official \n",
      "\n",
      "2)WORLD HABITAT DAY\n",
      "Theme 2021: Urban Action For A Carbon Free World\n",
      " has already declared CarbonNeutralLadakh\n",
      "\n",
      "Happy to share today that our R&amp;D of last 30 years has yielded some interesting results in PassiveSolarHeated Houses (PSH)!\n",
      "ClimateAction  ILiveSimply \n",
      "\n",
      "3)Just realised... \n",
      "Gandhiji's teachings are equally relevant in this digital social media age!\n",
      "HappyGandhiJayati \n",
      "\n",
      "4)On KargilVijayDiwas SHARING A TOUCHING STORY\n",
      "He was awarded Nishan-e-haider on recommendation of Brig Bajwa of Indian Army\n",
      "Now u understand the song:\n",
      "Phauladi hai seena apna phoolon jaisa dil hai...\n",
      "Tan mein Vindhyachal ka bal hai Man mein Taj Mahal hai!\n",
      "\n",
      "5)CHEEN KO JAWAAB\n",
      "One Year Later!\n",
      "Software in Week\n",
      "Hardware in a YEAR ???\n",
      "\n",
      "Click here to play new video...\n",
      "Ladakh BMIC MakeInIndia \n",
      "\n",
      "6)LAEST LOW COST INNOVATION TO FIGHT CLIMATE CHANGE WITH TREES, NOT GUNS\n",
      "Watch latest video here,👇\n",
      "climatechange plantation globalwarming fightingclimatechange \n",
      "\n",
      "7)INNOVATIVE WAYS OF GREENING DESERTS...\n",
      "ON WORLD ENVIRONMENT DAY \n",
      "At 11500 ft in the rainshadow of Himalayas,  nature left Ladakh high n dry\n",
      "But we still plant trees... \n",
      "What stops you!?\n",
      "My latest video:\n",
      "WorldEnvironmentDay  ClimateChange ILiveSimply leh \n",
      "\n",
      "8)JOIN US ON WORLD ENVIRONMENT DAY\n",
      "Join us in rethinking this world, for a better tomorrow\n",
      "Live programme will be broadcast on 5th June, 5 pm - 6 pm (IST) on UNDP India's Facebook handle (UNDP in India). \n",
      "Link: \n",
      "ClimateChange WorldEnvironmntDay ILiveSimply \n",
      "\n",
      "9)GOT VACCINATED TODAY\n",
      "So impressed with the neat n efficient handling of  Vaccination drive at Spituk near Leh in Ladakh. Can't imagine better anywhere in the world n all free of cost. Covishield vaccin Covid19India proudOfIndia PMOINDIA \n",
      "\n",
      "10)PLEASURE MEETING... A young 14 year old technologist n robotics ace who wants to make the world a better place with inventions–catch amazing young genius Shorya speaking with me on BYJUSYoungGenius @  UmarChotiKaamBade   \n",
      "\n",
      "11)SUCH A PLEASURE BRIDGING 2 GREAT COUNTRIES\n",
      "An honor standing with HE the Indian Ambassador n senior journalist Kanak M Dixit at Indian Embassy Kathmandu for India  Nepal  \n",
      "\n",
      "12)WORLDWATERDAY AT ICESTUPA LADAKH \n",
      "Today on 22nd March, we celebrated the value of Water\n",
      "Please live simply in the big cities, so we in the mountains may simply live.\n",
      "\n",
      "Make your PledgesForThePlanet on \n",
      "ClimateChange ClimateAction \n",
      "\n",
      "13)Deeply touched to be a part of this exceptional event to acknowledge and applaud women authors. Kudos to JKPaper and Times of India for this brilliant initiative! Congratulations to all the winners and participants...\n",
      " _Books  \n",
      "\n",
      "14)HOW I HANDLE MY CARBON FOOTPRINT\n",
      "Surely the biggest 'Sinful Act' in modern times...\n",
      "Here's the link to my latest video:👇\n",
      " ClimateChange MeltingGlaciers CarbonFootPrint CarbonTax ClimateAction PlantTrees CarbonNeutralLadakh Kargil _Taru \n",
      "\n",
      "15)VOLUNTARY CARBON TAX TO NATURE !\n",
      "Stay tuned for my new video at 4pm today on how we can clean up our dark carbon footprint that is causing... ClimateChange MeltingGlaciers CarbonFootPrint Carbontax ClimateAction PlantTrees CarbonNeutralLadakh Ladakh _Taru \n",
      "\n",
      "16)Hi there! I’m thrilled to announce the release of my two-in-one unique book on science and Indian scientists. The book introduces children to India’s inventions and discoveries. Order it here:  \n",
      "\n",
      "Please do help me and share this! \n",
      "Thank you,\n",
      "Shweta Taneja\n",
      "\n",
      "17)THEY MADE WHAT? THEY FOUND WHAT?\n",
      "A wonderful book for kids n adults alike... \n",
      "Fun stories about inventions and discoveries by Indian scientists... \n",
      "Including one of mine and my crazy childhood...😊\n",
      "Ladakh SonamWangchuk \n",
      "IceStupa AtificialGlacier \n",
      "\n",
      "18)ANY VOLUNTEERS FOR ENGLISH SUBTITLES...\n",
      "As this video\n",
      "crosses 1 million views many r requesting  for English subtitles. \n",
      "Calling volunteers with some experience to help.\n",
      "U may download, subtitle and share link with us in a tweet 🙏\n",
      "Ladakh SolarTent \n",
      "\n",
      "19)A clarification here...\n",
      "It's not that the whole tent weighs less than 30 kgs, its... each part weighs below 30 Kgs, when disassembleled so they can be carried to mountain tops. \n",
      "In the ultra light aluminum version less than 20 kgs.\n",
      "\n",
      "20)Dear Friends in Media...\n",
      "Thanks for ur interest in the LadakhSolarTent.  I'm unable to answer calls n fix interviews for each group, but I welcome n request u to freely use any clips n images from this video n my other posts...\n",
      "Here's the video 👇\n",
      "\n",
      "\n",
      "21)WORLD'S FIRST SOLAR HEATED TENT\n",
      "Thank u all for the overwhelming response to Ladakh's little gift for Indian Army. To answer your Qs about how it works I'm releasing a video at 11am on my YouTube channel. Please share it as an answer to ClimateChange MadeInIndia ILiveSimply \n",
      "\n",
      "22)MY TWITTER ACCOUNT WAS HACKED!\n",
      "And somehow it took weeks to restore it. Don't know how n who did it!\n",
      "But now I'm back!\n",
      "\n",
      "Stay tuned for all the interesting things that happened in the mean time!😊 \n",
      "\n",
      "23)JOYOUS CHRISTMAS TO ALL\n",
      "LET'S MAKE IT HAPPY &amp; JOYOUS FOR ALL...not just humans\n",
      "\n",
      "merrychristmas happynewyear IliveSimply ClimateAction ClimateChange  AirPollution EarthBuildings SupportMadeInIndia AatmNirbharBharat \n",
      "\n",
      "Click here to watch full video:\n",
      "\n",
      "\n",
      "24)And it was wonderful meeting HE the ambassador of France , really admire his initiative to host the discussion 5 years after ParisAccord.\n",
      "Governments have come together... but now it has to come down to ordinary citizens... ClimateChange \n",
      "\n",
      "25)5 YEARS AFTER PARIS AGREEMENT \n",
      "Panel discussion at French Embassy \n",
      "My simple message...\n",
      "Please live simply in big cities so we in mountains may simply live\n",
      "Want to live simply... \n",
      "visit  n make a New Year PLEDGE\n",
      "Watch:\n",
      "\n",
      "\n",
      "26)Can Teachers using Virtual Classrooms improve engagement with students significantly?\n",
      "\n",
      "Register n catch me live at HP REINVENT THE CLASSROOM Conclave in association with . We'll learn together from many experts n get demo.\n",
      "Click - \n",
      "\n",
      " \n",
      "\n",
      "27)BHARAT MEET surely meets all expectations\n",
      "Today I tested  to replace Zoom and all such apps in my work\n",
      "It worked like magic, has everything Zoom has and better... except may be your SUPPODo give it a try\n",
      "SupportMadeInIndia\n",
      "EachOneASoldier\n",
      "AatmNirbharBharat \n",
      "\n",
      "28)THOROUGHLY ENJOYED... \n",
      "Speaking at BTS2020 NextIsNow\n",
      "BangaluruTechSummit \n",
      "\n",
      "29): Popularly known for designing a SECMOL campus that runs entirely on solar power and no fossil fuels, Mr. Sonam Wangchuk…\n",
      "\n",
      "30)HAPPY DIWALI INDEED\n",
      "SoftwareInaWeekHardareInaYear\n",
      "BMIC\n",
      "\n",
      "\n",
      "\n",
      "31)SALUTES!\n",
      "main akelā hī chalā thā jānib-e-manzil magar \n",
      "log saath aate gaye aur kārvāñ bantā gayā \n",
      "\n",
      "32)HAPPY DIWALI INDIA\n",
      "And here's my video with Diwali wishes...that China did everything to suppress...\n",
      "SupportMadeInINDIA\n",
      "\n",
      "Click this link to watch video:\n",
      "\n",
      "\n",
      "33)IS CHINA SO DISTURBED BY INDIA's WalletPower!!!\n",
      "\n",
      " BoycottMadeInChina \n",
      " SupportMadeInIndia MadeInIndia\n",
      "Watch full video here:\n",
      "\n",
      "\n",
      "34)PLEASURE IN DEED ...\n",
      "Yes curiosity is natures software for lifelong learning and it comes free at birth with the hardware i.e. the human baby... \n",
      "\n",
      "35)Wonderful \n",
      "\n",
      "36)IS BAAR KI DIWALI...\n",
      "AURON KE NAAM...\n",
      "\n",
      "Sainikon ke Naam, \n",
      "Mareezon Ke Naam, \n",
      "Gareebon Ke Naam.\n",
      "\n",
      "Watch the full video here 👇\n",
      "diwali BoycottMadeInChina SupportMadeInIndia\n",
      "walletpower NoToCrackers SayNoToPollution PeacefulDiwali \n",
      "\n",
      "37)Wishing you all happy InternationalSnowLeopardDay \n",
      "savesnowleopards \n",
      "\n",
      "38)“LIVE SIMPLY SO THAT OTHERS MAY SIMPLY LIVE.”\n",
      "Remembering Gandhi on his 151st birthday through ILiveSimply movement\n",
      "          \n",
      "\n",
      "\n",
      "\n",
      "39)HOW IMPORTANT IS LADAKH TO INDIA\n",
      "Here is my latest video 👇\n",
      "Ladakh \n",
      "\n",
      "40)STAY TUNED for my next video on what Ladakh means to India and India to Ladakhi people. \n",
      "To be premiered on youtube tomorrow Sunday the 13th sept at 12 noon. \n",
      "Video will be live here :-  \n",
      "\n",
      "41)Well Sir \n",
      "But China isn't spewing all this poison for itself... The real switch for most of their emission n pollution is in your hands. Just BoycottMadeInChina and start ILiveSimply \n",
      "\n",
      "42)I'VE NEVER LET MY SCHOOLING INTERFERE WITH MY EDUCATION... Mark Twain\n",
      "Taking a gap year is a wonderful window to education... without interference from SCHOOL.\n",
      "\n",
      "gapyear  i❤️gapyear \n",
      "\n",
      "43)ENGLISH MEDIUM...\n",
      "\n",
      "Blessing or Curse for India...!\n",
      "\n",
      "My latest video on New Education Policy... \n",
      "Be ready for a feeling of disbelief,  shock, and liberation. \n",
      "Click this link to watch the video \n",
      "neweducationpolicy NEP2020 \n",
      "\n",
      "44)HERE'S A BEAUTIFUL WIN WIN IDEA\n",
      "That you may want to be part of...\n",
      "\n",
      "\n",
      "\n",
      "45)Is this true?\n",
      "\n",
      "Chinese ads= money,\n",
      "China gyan= TRP\n",
      "= money...\n",
      "\n",
      "Hope it's more than just about money!!!\n",
      "Thank God you have all the power in your hands... \n",
      "THE REMOTE!\n",
      "ChangeChineseChannel\n",
      "BoycottMadeInChina\n",
      "SoftwareInAWeekHardwareInAYear\n",
      "SupportMadeInIndia\n",
      "walletpower \n",
      "\n",
      "46)WORLD RAIN DAY\n",
      "save water, save the earth, save lives\n",
      "\n",
      "watch the full video here :-\n",
      "\n",
      "\n",
      "47)Humbled and honoured to receive the Dr. Kalam Memorial Award. \n",
      "Dr. Kalam epitomised simple living and patriotism as a sense of love and stewardship for one's country. \n",
      "Let's inculcate these values to create a truly livable planet.\n",
      "kalam apjabdulkalam kalamcentre ilivesimply \n",
      "\n",
      "48)REMEBERING Dr. APJ ABDUL KALAM\n",
      "Always eager to meet children and promote education.\n",
      "\n",
      "In 2006 he was in Leh and launched the Ladakh Hill Council textbooks prepared by SECMOL under Operation New Hope. \n",
      "Kalam apjabdulkalam kalamcentre \n",
      "\n",
      "49)And...\n",
      "His Holiness Kyabgon Chetshang Rinpochey\n",
      "As a spiritual leader &amp; the United Nations' ambassador for mountain partnerships... HH guides mountain people not only in dharma for next life but also good karma in this life through environmental stewardship.\n",
      " \n",
      "\n",
      "50)JULY IS AN AUSPICIOUS MONTH It marks the birth anniversary of two great teachers in Tibetan Buddhism His Holiness Dalai Lama who has been instrumental for peace n harmony in the world, particularly in my land Ladakh.\n",
      "  _Tibetan  \n",
      "\n",
      "51)I WISH   DIDN'T HAVE TO RESOTO THIS...\n",
      "That would be their best tribute to the 20 martyrs\n",
      "We really don't want to have to boycott TOI...!\n",
      "\n",
      "BoycottMadeInChina\n",
      "SoftwareInAWeekHardwareInAYear\n",
      "SupportMadeInIndia\n",
      "walletpower  NonViolentWalletPower \n",
      "\n",
      "52)ICE STUPA AWARDS and Global Appeal From Tarchit, LADAKH\n",
      "\n",
      "Please Live Simply, so we may simply live! \n",
      "\n",
      "climatechange icestupa climatecrisis meltingglaciers \n",
      "LADAKH HIAL ilivesimply\n",
      "Watch the full video on Tarchit, Ladaakh's best-kept secret here:\n",
      "\n",
      "\n",
      "53)The BMIC Virus... How to Handle it!\n",
      "\n",
      "1000 times more contagious than Corona,\n",
      "2 MILLION infected, 20 Million asymptotic\n",
      "\n",
      "After the video if you find you too are infected, do please share with InfectedwithBMIC\n",
      "BoycottMadeInChina\n",
      "\n",
      "Watch the full video here:\n",
      "\n",
      "\n",
      "54)True Hero\n",
      "Congratulations !!!\n",
      "\n",
      "BoycottMadeInChina\n",
      "SoftwareInAWeekHardwareInAYear\n",
      "SupportMadeInIndia\n",
      "walletpower  NonViolentWalletPower\n",
      "\n",
      "\n",
      "\n",
      "55)BoycottMadeInChina is not enough...!\n",
      "We need to CatchUpWithChina\n",
      "TuSerToMainSawaSer\n",
      "तूसेरतोमैंसवासेर\n",
      "SupportMadeInIndia\n",
      "walletpower  NonViolentWalletPower \n",
      "\n",
      "Here's my latest video in Hindi...\n",
      "\n",
      "\n",
      "56)Government's ban on 59 Chinese Apps is a timely &amp; welcome move for national security... but\n",
      "\n",
      "Citizens have still a long way to go...\n",
      "to BoycottMadeInChina \n",
      "SoftwareInAWeek done &amp; now for HardwareInAYear\n",
      "to SupportMadeInIndia using WalletPower\n",
      "\n",
      "My statement in English: \n",
      "\n",
      "57)Pleased to be speaking at RCC Chennai...\n",
      "\n",
      " \n",
      "\n",
      "58)ANOTHER YOUNG INDIAN ENTREPRENEUR...\n",
      "\n",
      "Best wishes...!\n",
      "\n",
      "BoycottMadeInChina\n",
      "SoftwareInAWeekHardwareInAYear\n",
      "walletpower  NonViolentWalletPower \n",
      "\n",
      "59)We Should Boycott Chinese Products For Ethical Reasons: Activist Sonam Wangchuk \n",
      "\n"
     ]
    }
   ],
   "source": [
    "# Print all of the positive tweets\n",
    "j = 1\n",
    "sortedDF = df.sort_values(by=['polarity'])\n",
    "for i in range (0,sortedDF.shape[0]):\n",
    "    if(sortedDF['Analysis'][i]=='Positive'):\n",
    "        print(str(j)+')'+sortedDF['Tweets'][i])\n",
    "        print()\n",
    "        j = j+1"
   ]
  },
  {
   "cell_type": "code",
   "execution_count": 190,
   "id": "0a27efb5",
   "metadata": {
    "collapsed": true
   },
   "outputs": [
    {
     "name": "stdout",
     "output_type": "stream",
     "text": [
      "1) ITBP GOING GREEN\n",
      "It was a pleasure meeting Sh Hemant Priyadarshi IPS,  ADG ITBP and  Sh Lhari Dorjey IG ITBP at HIAL.  Discussed various options for Passive Solar Heated buildings at forward locations on Indo China Border. \n",
      "GreenITBP  GreenArmy \n",
      "atmanirbharbharat \n",
      "\n",
      "2) AND FINALLY THE ICE TUNNEL VIDEO...\n",
      "Another crazy idea!\n",
      "Please click this link to pkay video:\n",
      " _Official \n",
      "ClimateChange CarbonNeutral Ladakh \n",
      "\n",
      "3) WAS AT ZOJILA TOP &amp; TUNNEL ENTRANCE\n",
      "Curtesy National Highways Authority _Official to test out a crazy idea... making low-cost Ice Tunnels to keep open d approach road to Zojila Tunnel, saving 500 tns of Co2 n crores annually. ClimateChange CarbonNeutral\n",
      "Stay tuned fr video \n",
      "\n",
      "4) AND FINALLY THE AWAITED VIDEO...\n",
      "of the World's 1st Solar Heated Military Tent.\n",
      "\n",
      "Explains how it works, what it costs n how it fights ClimateChange, \n",
      "No pollution, no power, no power bills\n",
      "MadeInIndia ILiveSimply\n",
      "Click link below &amp; share in your circle:\n",
      "\n",
      "\n",
      "5) SOLAR HEATED MILITARY TENT \n",
      "for indianarmy at galwanvalley\n",
      "+15 C at 10pm now.  \n",
      "Min outside last night was -14 C,\n",
      "Replaces tons of kerosesne, pollution climatechange\n",
      "For 10 jawans, fully portable all parts weigh less than 30 Kgs. MadeInIndia MadeInLadakh CarbonNeutral \n",
      "\n",
      "6) It's Nirvana to be back to warmth of my Ladakhi room from cold Delhi... could never imagine wearing a tshirt there.\n",
      "There was a time when Ladakhi people wd migrate to Delhi for winters...\n",
      "Not anymore, thanks to our PassiveSolar EarthBuildings.\n",
      "Outside min :  -15 C\n",
      "Inside:+24 C \n",
      "\n",
      "7) : . in a communication sent to cricket legend _rt today expressed disappointment &amp; displeasure for becoming t…\n",
      "\n",
      "8) AUGUST IS AN AUSPICIOUS MONTH FOR LADAKH\n",
      "From being remote n neglected districts in a remote state, Ladakh became a Union Territory... a centre of attention in itself.\n",
      "Sometimes I pinch myself to believe this... \n",
      "\n",
      "All we await now is the icing on the cake!\n",
      "Any guesses!\n",
      "\n",
      "9) I'm flooded with calls from media channels on the 59 apps!\n",
      "Sorry wrong number!\n",
      "\n",
      "Credit, if any, goes entirely to the billion+ citizens and Govt of India... \n",
      "\n",
      "So, dear friends in media... pls DO NOT call me.\n",
      "walletpower\n",
      "BoycottMadeInChina\n",
      "SoftwareInAWeekHardwareInAYear\n",
      "\n",
      "10) SAD IF TRUE\n",
      "“For now, downloading Chinese apps seems like a bad thing but public sentiment is fickle. Social media addiction is like cocaine. You may give up in anger but the itch comes back,” Santosh Pai, Partner, Link Legal, which advises Chinese clients on investments in India\n",
      "\n"
     ]
    }
   ],
   "source": [
    "# Print the negative tweets\n",
    "j = 1\n",
    "sortedDF = df.sort_values(by=['polarity'],ascending='False')\n",
    "for i in range (0,sortedDF.shape[0]):\n",
    "    if(sortedDF['Analysis'][i]=='Negative'):\n",
    "        print(str(j)+ ') '+sortedDF['Tweets'][i])\n",
    "        print()\n",
    "        j = j+1\n"
   ]
  },
  {
   "cell_type": "code",
   "execution_count": 195,
   "id": "486b946e",
   "metadata": {},
   "outputs": [
    {
     "data": {
      "text/plain": [
       "<function matplotlib.pyplot.show(close=None, block=None)>"
      ]
     },
     "execution_count": 195,
     "metadata": {},
     "output_type": "execute_result"
    },
    {
     "data": {
      "image/png": "[encoded data removed]",
      "text/plain": [
       "<Figure size 576x432 with 1 Axes>"
      ]
     },
     "metadata": {},
     "output_type": "display_data"
    }
   ],
   "source": [
    "# Plot the polarity and subjectivity\n",
    "plt.figure(figsize=(8,6))\n",
    "for i in range(0,df.shape[0]):\n",
    "    plt.scatter(df['polarity'][i],df['Subjectivity'][i],color='Blue')\n",
    "    \n",
    "plt.title('Sentiment Analysis')\n",
    "plt.xlabel('Polarity')\n",
    "plt.ylabel('Subjectivity')\n",
    "plt.show"
   ]
  },
  {
   "cell_type": "code",
   "execution_count": 197,
   "id": "6d660697",
   "metadata": {},
   "outputs": [
    {
     "data": {
      "text/plain": [
       "60.8"
      ]
     },
     "execution_count": 197,
     "metadata": {},
     "output_type": "execute_result"
    }
   ],
   "source": [
    "# Get the percentage of positive tweets\n",
    "ptweets = df[df.Analysis == 'Positive']\n",
    "ptweets = ptweets['Tweets']\n",
    "\n",
    "round((ptweets.shape[0]/df.shape[0])*100,1)"
   ]
  },
  {
   "cell_type": "code",
   "execution_count": 198,
   "id": "c7588f50",
   "metadata": {},
   "outputs": [
    {
     "data": {
      "text/plain": [
       "10.3"
      ]
     },
     "execution_count": 198,
     "metadata": {},
     "output_type": "execute_result"
    }
   ],
   "source": [
    "# Get the percentage of negative tweets\n",
    "ptweets = df[df.Analysis == 'Negative']\n",
    "ptweets = ptweets['Tweets']\n",
    "\n",
    "round((ptweets.shape[0]/df.shape[0])*100,1)"
   ]
  },
  {
   "cell_type": "code",
   "execution_count": 199,
   "id": "eeabcc96",
   "metadata": {},
   "outputs": [
    {
     "data": {
      "text/plain": [
       "Positive    59\n",
       "Neutral     28\n",
       "Negative    10\n",
       "Name: Analysis, dtype: int64"
      ]
     },
     "execution_count": 199,
     "metadata": {},
     "output_type": "execute_result"
    }
   ],
   "source": [
    "# shaow the values counts\n",
    "\n",
    "df['Analysis'].value_counts()"
   ]
  },
  {
   "cell_type": "code",
   "execution_count": 200,
   "id": "7b07ff80",
   "metadata": {},
   "outputs": [
    {
     "data": {
      "image/png": "[encoded data removed]",
      "text/plain": [
       "<Figure size 432x288 with 1 Axes>"
      ]
     },
     "metadata": {},
     "output_type": "display_data"
    }
   ],
   "source": [
    "#plot and visualize the counts\n",
    "plt.title('Sentiment Analysis')\n",
    "plt.xlabel('Sentiment')\n",
    "plt.ylabel('Counts')\n",
    "df['Analysis'].value_counts().plot(kind='bar')\n",
    "plt.show()"
   ]
  },
  {
   "cell_type": "code",
   "execution_count": null,
   "id": "9f934815",
   "metadata": {},
   "outputs": [],
   "source": []
  },
  {
   "cell_type": "code",
   "execution_count": null,
   "id": "d46f68b5",
   "metadata": {},
   "outputs": [],
   "source": []
  },
  {
   "cell_type": "code",
   "execution_count": null,
   "id": "c3600f1d",
   "metadata": {},
   "outputs": [],
   "source": []
  },
  {
   "cell_type": "code",
   "execution_count": null,
   "id": "d557948d",
   "metadata": {},
   "outputs": [],
   "source": []
  },
  {
   "cell_type": "code",
   "execution_count": null,
   "id": "3ea1254d",
   "metadata": {},
   "outputs": [],
   "source": []
  },
  {
   "cell_type": "code",
   "execution_count": null,
   "id": "cbb4e4fd",
   "metadata": {},
   "outputs": [],
   "source": []
  },
  {
   "cell_type": "code",
   "execution_count": null,
   "id": "279b060b",
   "metadata": {},
   "outputs": [],
   "source": []
  },
  {
   "cell_type": "code",
   "execution_count": null,
   "id": "df50cd7d",
   "metadata": {},
   "outputs": [],
   "source": []
  },
  {
   "cell_type": "code",
   "execution_count": null,
   "id": "5f38fd1e",
   "metadata": {},
   "outputs": [],
   "source": []
  },
  {
   "cell_type": "code",
   "execution_count": null,
   "id": "1d377939",
   "metadata": {},
   "outputs": [],
   "source": []
  },
  {
   "cell_type": "code",
   "execution_count": null,
   "id": "bcdf1071",
   "metadata": {},
   "outputs": [],
   "source": []
  },
  {
   "cell_type": "code",
   "execution_count": null,
   "id": "ef7e10fa",
   "metadata": {},
   "outputs": [],
   "source": []
  },
  {
   "cell_type": "code",
   "execution_count": null,
   "id": "8c3f07a0",
   "metadata": {},
   "outputs": [],
   "source": []
  },
  {
   "cell_type": "code",
   "execution_count": null,
   "id": "8dbaf138",
   "metadata": {},
   "outputs": [],
   "source": []
  },
  {
   "cell_type": "code",
   "execution_count": null,
   "id": "91f98ae3",
   "metadata": {},
   "outputs": [],
   "source": []
  },
  {
   "cell_type": "code",
   "execution_count": null,
   "id": "10349bf7",
   "metadata": {},
   "outputs": [],
   "source": []
  },
  {
   "cell_type": "code",
   "execution_count": null,
   "id": "3fb738b2",
   "metadata": {},
   "outputs": [],
   "source": []
  },
  {
   "cell_type": "code",
   "execution_count": null,
   "id": "93d101b5",
   "metadata": {},
   "outputs": [],
   "source": []
  },
  {
   "cell_type": "code",
   "execution_count": null,
   "id": "b50b0363",
   "metadata": {},
   "outputs": [],
   "source": []
  },
  {
   "cell_type": "code",
   "execution_count": null,
   "id": "01753a16",
   "metadata": {},
   "outputs": [],
   "source": []
  },
  {
   "cell_type": "code",
   "execution_count": null,
   "id": "4fe17d6b",
   "metadata": {},
   "outputs": [],
   "source": []
  },
  {
   "cell_type": "code",
   "execution_count": null,
   "id": "2bdde8eb",
   "metadata": {},
   "outputs": [],
   "source": []
  },
  {
   "cell_type": "code",
   "execution_count": null,
   "id": "98d48817",
   "metadata": {},
   "outputs": [],
   "source": []
  },
  {
   "cell_type": "code",
   "execution_count": null,
   "id": "515abdec",
   "metadata": {},
   "outputs": [],
   "source": []
  },
  {
   "cell_type": "code",
   "execution_count": null,
   "id": "1436a021",
   "metadata": {},
   "outputs": [],
   "source": []
  },
  {
   "cell_type": "code",
   "execution_count": null,
   "id": "a4ca845b",
   "metadata": {},
   "outputs": [],
   "source": []
  },
  {
   "cell_type": "code",
   "execution_count": null,
   "id": "09499581",
   "metadata": {},
   "outputs": [],
   "source": []
  },
  {
   "cell_type": "code",
   "execution_count": null,
   "id": "c9cec0e5",
   "metadata": {},
   "outputs": [],
   "source": []
  },
  {
   "cell_type": "code",
   "execution_count": null,
   "id": "c02160a0",
   "metadata": {},
   "outputs": [],
   "source": []
  },
  {
   "cell_type": "code",
   "execution_count": null,
   "id": "f36ac1fa",
   "metadata": {},
   "outputs": [],
   "source": []
  },
  {
   "cell_type": "code",
   "execution_count": null,
   "id": "45519d75",
   "metadata": {},
   "outputs": [],
   "source": []
  },
  {
   "cell_type": "code",
   "execution_count": null,
   "id": "2e7cb3fc",
   "metadata": {},
   "outputs": [],
   "source": []
  },
  {
   "cell_type": "code",
   "execution_count": null,
   "id": "0efe7734",
   "metadata": {},
   "outputs": [],
   "source": []
  },
  {
   "cell_type": "code",
   "execution_count": null,
   "id": "caa17e4b",
   "metadata": {},
   "outputs": [],
   "source": []
  },
  {
   "cell_type": "code",
   "execution_count": null,
   "id": "afdb8b7b",
   "metadata": {},
   "outputs": [],
   "source": []
  },
  {
   "cell_type": "code",
   "execution_count": null,
   "id": "f4202282",
   "metadata": {},
   "outputs": [],
   "source": []
  },
  {
   "cell_type": "code",
   "execution_count": null,
   "id": "950eebcd",
   "metadata": {},
   "outputs": [],
   "source": []
  },
  {
   "cell_type": "code",
   "execution_count": null,
   "id": "3f02edb9",
   "metadata": {},
   "outputs": [],
   "source": []
  },
  {
   "cell_type": "code",
   "execution_count": null,
   "id": "66042f8d",
   "metadata": {},
   "outputs": [],
   "source": []
  },
  {
   "cell_type": "code",
   "execution_count": null,
   "id": "42155a6e",
   "metadata": {},
   "outputs": [],
   "source": []
  },
  {
   "cell_type": "code",
   "execution_count": null,
   "id": "893a2a28",
   "metadata": {},
   "outputs": [],
   "source": []
  },
  {
   "cell_type": "code",
   "execution_count": null,
   "id": "6b82f299",
   "metadata": {},
   "outputs": [],
   "source": []
  },
  {
   "cell_type": "code",
   "execution_count": null,
   "id": "6436c507",
   "metadata": {},
   "outputs": [],
   "source": []
  },
  {
   "cell_type": "code",
   "execution_count": null,
   "id": "9818831b",
   "metadata": {},
   "outputs": [],
   "source": []
  },
  {
   "cell_type": "code",
   "execution_count": null,
   "id": "3bd2a3f9",
   "metadata": {},
   "outputs": [],
   "source": []
  },
  {
   "cell_type": "code",
   "execution_count": null,
   "id": "0b7c3a56",
   "metadata": {},
   "outputs": [],
   "source": []
  },
  {
   "cell_type": "code",
   "execution_count": null,
   "id": "bd4cd47b",
   "metadata": {},
   "outputs": [],
   "source": []
  },
  {
   "cell_type": "code",
   "execution_count": null,
   "id": "d2df0550",
   "metadata": {},
   "outputs": [],
   "source": []
  },
  {
   "cell_type": "code",
   "execution_count": null,
   "id": "df8ee8ce",
   "metadata": {},
   "outputs": [],
   "source": []
  },
  {
   "cell_type": "code",
   "execution_count": null,
   "id": "e8ae4530",
   "metadata": {},
   "outputs": [],
   "source": []
  },
  {
   "cell_type": "code",
   "execution_count": null,
   "id": "2c6bb3b0",
   "metadata": {},
   "outputs": [],
   "source": []
  },
  {
   "cell_type": "code",
   "execution_count": null,
   "id": "ae91276d",
   "metadata": {},
   "outputs": [],
   "source": []
  },
  {
   "cell_type": "code",
   "execution_count": null,
   "id": "f7d94a45",
   "metadata": {},
   "outputs": [],
   "source": []
  },
  {
   "cell_type": "code",
   "execution_count": null,
   "id": "d1625fd1",
   "metadata": {},
   "outputs": [],
   "source": []
  },
  {
   "cell_type": "code",
   "execution_count": null,
   "id": "223f40e9",
   "metadata": {},
   "outputs": [],
   "source": []
  },
  {
   "cell_type": "code",
   "execution_count": null,
   "id": "8a3b42bd",
   "metadata": {},
   "outputs": [],
   "source": []
  },
  {
   "cell_type": "code",
   "execution_count": null,
   "id": "97d03f11",
   "metadata": {},
   "outputs": [],
   "source": []
  },
  {
   "cell_type": "code",
   "execution_count": null,
   "id": "c25ff2c4",
   "metadata": {},
   "outputs": [],
   "source": []
  },
  {
   "cell_type": "code",
   "execution_count": null,
   "id": "5372f586",
   "metadata": {},
   "outputs": [],
   "source": []
  },
  {
   "cell_type": "code",
   "execution_count": null,
   "id": "dbbd13e8",
   "metadata": {},
   "outputs": [],
   "source": []
  },
  {
   "cell_type": "code",
   "execution_count": null,
   "id": "f09ec391",
   "metadata": {},
   "outputs": [],
   "source": []
  },
  {
   "cell_type": "code",
   "execution_count": null,
   "id": "e14d6764",
   "metadata": {},
   "outputs": [],
   "source": []
  },
  {
   "cell_type": "code",
   "execution_count": null,
   "id": "6ddc8423",
   "metadata": {},
   "outputs": [],
   "source": []
  },
  {
   "cell_type": "code",
   "execution_count": null,
   "id": "0e3ffb93",
   "metadata": {},
   "outputs": [],
   "source": []
  },
  {
   "cell_type": "code",
   "execution_count": null,
   "id": "edc81a6b",
   "metadata": {},
   "outputs": [],
   "source": []
  },
  {
   "cell_type": "code",
   "execution_count": null,
   "id": "381dfe71",
   "metadata": {},
   "outputs": [],
   "source": []
  },
  {
   "cell_type": "code",
   "execution_count": null,
   "id": "0b3a6877",
   "metadata": {},
   "outputs": [],
   "source": []
  },
  {
   "cell_type": "code",
   "execution_count": null,
   "id": "a8a62c9c",
   "metadata": {},
   "outputs": [],
   "source": []
  },
  {
   "cell_type": "code",
   "execution_count": null,
   "id": "5d05ffae",
   "metadata": {},
   "outputs": [],
   "source": []
  },
  {
   "cell_type": "code",
   "execution_count": null,
   "id": "d66e9f46",
   "metadata": {},
   "outputs": [],
   "source": []
  },
  {
   "cell_type": "code",
   "execution_count": null,
   "id": "91d0891f",
   "metadata": {},
   "outputs": [],
   "source": []
  },
  {
   "cell_type": "code",
   "execution_count": null,
   "id": "5fc9de7e",
   "metadata": {},
   "outputs": [],
   "source": []
  },
  {
   "cell_type": "code",
   "execution_count": null,
   "id": "3ac090fd",
   "metadata": {},
   "outputs": [],
   "source": []
  },
  {
   "cell_type": "code",
   "execution_count": null,
   "id": "0465215a",
   "metadata": {},
   "outputs": [],
   "source": []
  },
  {
   "cell_type": "code",
   "execution_count": null,
   "id": "3751ef68",
   "metadata": {},
   "outputs": [],
   "source": []
  },
  {
   "cell_type": "code",
   "execution_count": null,
   "id": "c9081750",
   "metadata": {},
   "outputs": [],
   "source": []
  },
  {
   "cell_type": "code",
   "execution_count": null,
   "id": "7a250bd9",
   "metadata": {},
   "outputs": [],
   "source": []
  },
  {
   "cell_type": "code",
   "execution_count": null,
   "id": "927d803d",
   "metadata": {},
   "outputs": [],
   "source": []
  },
  {
   "cell_type": "code",
   "execution_count": null,
   "id": "b52d26b0",
   "metadata": {},
   "outputs": [],
   "source": []
  },
  {
   "cell_type": "code",
   "execution_count": null,
   "id": "d176cfa3",
   "metadata": {},
   "outputs": [],
   "source": []
  }
 ],
 "metadata": {
  "kernelspec": {
   "display_name": "Python 3",
   "language": "python",
   "name": "python3"
  },
  "language_info": {
   "codemirror_mode": {
    "name": "ipython",
    "version": 3
   },
   "file_extension": ".py",
   "mimetype": "text/x-python",
   "name": "python",
   "nbconvert_exporter": "python",
   "pygments_lexer": "ipython3",
   "version": "3.8.8"
  }
 },
 "nbformat": 4,
 "nbformat_minor": 5
}
